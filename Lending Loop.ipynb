{
 "cells": [
  {
   "cell_type": "markdown",
   "metadata": {},
   "source": [
    "# Lending Loop Web App\n",
    "This is a prototype for a Lending Loop web app / dashboard. This notebook focuses on the logics of Lending Loop summary calculations."
   ]
  },
  {
   "cell_type": "markdown",
   "metadata": {},
   "source": [
    "# System Initializations"
   ]
  },
  {
   "cell_type": "markdown",
   "metadata": {},
   "source": [
    "### Package Initializations"
   ]
  },
  {
   "cell_type": "code",
   "execution_count": 1,
   "metadata": {
    "collapsed": true
   },
   "outputs": [],
   "source": [
    "# DataFrames\n",
    "import pandas as pd\n",
    "import findspark\n",
    "import pyspark\n",
    "import pyspark.sql.functions as F\n",
    "import pyspark.sql.types as T\n",
    "\n",
    "# Numerical Packages\n",
    "import numpy as np\n",
    "import math\n",
    "\n",
    "# Datetime\n",
    "import datetime\n",
    "\n",
    "# Misc Packages\n",
    "import os\n",
    "\n",
    "# Visualizations\n",
    "import plotly\n",
    "import plotly.offline as pyo\n",
    "import plotly.graph_objs as go"
   ]
  },
  {
   "cell_type": "markdown",
   "metadata": {},
   "source": [
    "### System Configuration\n"
   ]
  },
  {
   "cell_type": "code",
   "execution_count": 2,
   "metadata": {},
   "outputs": [
    {
     "data": {
      "text/html": [
       "<script>requirejs.config({paths: { 'plotly': ['https://cdn.plot.ly/plotly-latest.min']},});if(!window.Plotly) {{require(['plotly'],function(plotly) {window.Plotly=plotly;});}}</script>"
      ],
      "text/vnd.plotly.v1+html": [
       "<script>requirejs.config({paths: { 'plotly': ['https://cdn.plot.ly/plotly-latest.min']},});if(!window.Plotly) {{require(['plotly'],function(plotly) {window.Plotly=plotly;});}}</script>"
      ]
     },
     "metadata": {},
     "output_type": "display_data"
    }
   ],
   "source": [
    "# Plotly offline\n",
    "pyo.init_notebook_mode(connected=True)\n",
    "\n",
    "# Pandas display\n",
    "pd.set_option('display.max_colwidth', -1)\n",
    "\n",
    "# PySpark Session Initialization\n",
    "packages = 'org.mongodb.spark:mongo-spark-connector_2.11:2.2.0'\n",
    "dedicated_memory = '1g'\n",
    "\n",
    "os.environ['PYSPARK_SUBMIT_ARGS'] = '--packages {} --driver-memory {} pyspark-shell' \\\n",
    "    .format(packages, dedicated_memory)"
   ]
  },
  {
   "cell_type": "code",
   "execution_count": 3,
   "metadata": {
    "collapsed": true
   },
   "outputs": [],
   "source": [
    "# Find SPARK_HOME\n",
    "findspark.init()\n",
    "\n",
    "# Create SparkSession\n",
    "spark = (pyspark.sql.SparkSession\n",
    "         .builder.appName('LendingLoop')\n",
    "         .getOrCreate())"
   ]
  },
  {
   "cell_type": "markdown",
   "metadata": {},
   "source": [
    "### Constant Definitions"
   ]
  },
  {
   "cell_type": "code",
   "execution_count": 4,
   "metadata": {
    "collapsed": true
   },
   "outputs": [],
   "source": [
    "LENDING_LOOP_FEE_RATE = 1.5"
   ]
  },
  {
   "cell_type": "markdown",
   "metadata": {},
   "source": [
    "### Helper Function Definitions"
   ]
  },
  {
   "cell_type": "code",
   "execution_count": 5,
   "metadata": {
    "code_folding": [
     0,
     9,
     14,
     23
    ],
    "collapsed": true
   },
   "outputs": [],
   "source": [
    "def display_DF(sparkDF, n=5):\n",
    "    '''\n",
    "    Interactively displays the first n rows of a sparkDF as a pandas dataframe\n",
    "    '''\n",
    "    return (sparkDF\n",
    "            .limit(n)\n",
    "            .drop('_id')\n",
    "            .toPandas())\n",
    "\n",
    "def import_new_notes(DF):\n",
    "    '''\n",
    "    Search DF for new notes and import them into MongoDB.\n",
    "    '''\n",
    "    @F.udf(returnType=T.DoubleType())\n",
    "    def calculate_principal(unitPay, interestRate, totalPayCycles):\n",
    "        '''\n",
    "        Calculate the principal invested based on the unitPay, interestRate and totalPayCycles.\n",
    "        '''\n",
    "        interestRate /= 100 * 12\n",
    "\n",
    "        return unitPay / interestRate * (1 - 1. / (1 + interestRate)**totalPayCycles)\n",
    "    \n",
    "    @F.udf(returnType=T.FloatType())\n",
    "    def bad_debt_funds(principal, grade, cyclesTotal):\n",
    "        rate = interestRatesBroadcast.value[grade] / 1200\n",
    "        return round(principal * (cyclesTotal * rate / (1 - (1 + rate)**(-cyclesTotal)) - 1), 2)\n",
    "    \n",
    "    # Obtain list of new notes from input DF\n",
    "    newNotesDF = (DF\n",
    "                  .orderBy('dueDate')\n",
    "                  .groupBy('loanID', 'company', 'loanName', 'interestRate', 'grade')\n",
    "                  .agg(F.count('loanID').alias('cyclesTotal'), \n",
    "                       F.sum('principalScheduled').alias('principal'),\n",
    "                       F.round(F.sum('fees'), 2).alias('fees'),\n",
    "                       F.round(F.sum('interestScheduled') - F.sum('fees'), 2).alias('profits'),\n",
    "                       F.round(F.mean('totalScheduled'), 2).alias('unitPayment'), \n",
    "                       F.add_months(F.first('dueDate'), -1).alias('startDate'))\n",
    "                  .withColumn('principal', \n",
    "                              F.round(calculate_principal('unitPayment', 'interestRate', 'cyclesTotal'), 0))\n",
    "                  .withColumn('cyclesRemaining', F.udf(lambda x: x, T.LongType())('cyclesTotal'))\n",
    "                  .withColumn('badDebtFunds', bad_debt_funds('principal', 'grade', 'cyclesTotal'))\n",
    "                  .withColumn('profits', F.col('profits') - F.col('badDebtFunds'))\n",
    "                  .withColumn('amountRepayed', F.lit(0.00))\n",
    "                  .cache())\n",
    "    \n",
    "    return newNotesDF"
   ]
  },
  {
   "cell_type": "markdown",
   "metadata": {},
   "source": [
    "# Test Area"
   ]
  },
  {
   "cell_type": "markdown",
   "metadata": {},
   "source": [
    "### Import dataset"
   ]
  },
  {
   "cell_type": "code",
   "execution_count": 6,
   "metadata": {
    "collapsed": true
   },
   "outputs": [],
   "source": [
    "# Read raw CSV file\n",
    "rawDF = (spark\n",
    "         .read\n",
    "         .format('com.databricks.spark.csv')\n",
    "         .option('header', 'True')\n",
    "         .option('inferschema', 'True')\n",
    "         .load('all_payments.csv'))\n",
    "\n",
    "# Camel case titles\n",
    "camelCaseDict = {title: title[0].lower() + title.replace(' ', '')[1:] for title in rawDF.columns}\n",
    "\n",
    "# Simplify certain column titles\n",
    "camelCaseDict['Fees Paid to Loop'] = 'fees'\n",
    "camelCaseDict['Risk Band'] = 'grade'\n",
    "camelCaseDict['Loan Id'] = 'loanID'\n",
    "\n",
    "# Camelcase column titles\n",
    "rawDF = rawDF.select([F.col(title).alias(camelCaseDict[title]) for title in camelCaseDict.keys()])"
   ]
  },
  {
   "cell_type": "code",
   "execution_count": 7,
   "metadata": {},
   "outputs": [
    {
     "data": {
      "text/html": [
       "<div>\n",
       "<style>\n",
       "    .dataframe thead tr:only-child th {\n",
       "        text-align: right;\n",
       "    }\n",
       "\n",
       "    .dataframe thead th {\n",
       "        text-align: left;\n",
       "    }\n",
       "\n",
       "    .dataframe tbody tr th {\n",
       "        vertical-align: top;\n",
       "    }\n",
       "</style>\n",
       "<table border=\"1\" class=\"dataframe\">\n",
       "  <thead>\n",
       "    <tr style=\"text-align: right;\">\n",
       "      <th></th>\n",
       "      <th>status</th>\n",
       "      <th>interestPaid</th>\n",
       "      <th>paymentType</th>\n",
       "      <th>principalScheduled</th>\n",
       "      <th>totalOwed</th>\n",
       "      <th>loanID</th>\n",
       "      <th>grade</th>\n",
       "      <th>interestRate</th>\n",
       "      <th>company</th>\n",
       "      <th>principalPaid</th>\n",
       "      <th>dueDate</th>\n",
       "      <th>interestScheduled</th>\n",
       "      <th>totalScheduled</th>\n",
       "      <th>fees</th>\n",
       "      <th>loanName</th>\n",
       "      <th>principalOwed</th>\n",
       "      <th>totalPaid</th>\n",
       "      <th>interestOwed</th>\n",
       "      <th>datePaid</th>\n",
       "    </tr>\n",
       "  </thead>\n",
       "  <tbody>\n",
       "    <tr>\n",
       "      <th>0</th>\n",
       "      <td>Paid</td>\n",
       "      <td>0.64</td>\n",
       "      <td>Scheduled Payment</td>\n",
       "      <td>2.83</td>\n",
       "      <td>3.47</td>\n",
       "      <td>83910</td>\n",
       "      <td>B+</td>\n",
       "      <td>10.33</td>\n",
       "      <td>Bronze Baxx Tanning Studio Inc.</td>\n",
       "      <td>2.83</td>\n",
       "      <td>2017-09-22</td>\n",
       "      <td>0.64</td>\n",
       "      <td>3.47</td>\n",
       "      <td>0.09</td>\n",
       "      <td>Salon - Equipment Purchase (1 of 2)</td>\n",
       "      <td>2.83</td>\n",
       "      <td>3.47</td>\n",
       "      <td>0.64</td>\n",
       "      <td>2017-09-22</td>\n",
       "    </tr>\n",
       "    <tr>\n",
       "      <th>1</th>\n",
       "      <td>Paid</td>\n",
       "      <td>0.86</td>\n",
       "      <td>Scheduled Payment</td>\n",
       "      <td>2.39</td>\n",
       "      <td>3.25</td>\n",
       "      <td>59705</td>\n",
       "      <td>D</td>\n",
       "      <td>20.67</td>\n",
       "      <td>Nice and Smooth Ultramedia Inc.</td>\n",
       "      <td>2.39</td>\n",
       "      <td>2017-09-22</td>\n",
       "      <td>0.86</td>\n",
       "      <td>3.25</td>\n",
       "      <td>0.06</td>\n",
       "      <td>Concert Producer &amp; Promoter</td>\n",
       "      <td>2.39</td>\n",
       "      <td>3.25</td>\n",
       "      <td>0.86</td>\n",
       "      <td>2017-09-23</td>\n",
       "    </tr>\n",
       "    <tr>\n",
       "      <th>2</th>\n",
       "      <td>Paid</td>\n",
       "      <td>0.64</td>\n",
       "      <td>Scheduled Payment</td>\n",
       "      <td>1.27</td>\n",
       "      <td>1.91</td>\n",
       "      <td>7802</td>\n",
       "      <td>B+</td>\n",
       "      <td>10.33</td>\n",
       "      <td>Brightpath Capital Corporation</td>\n",
       "      <td>1.27</td>\n",
       "      <td>2017-09-25</td>\n",
       "      <td>0.64</td>\n",
       "      <td>1.91</td>\n",
       "      <td>0.09</td>\n",
       "      <td>Mortgage Lender - Working Capital</td>\n",
       "      <td>1.27</td>\n",
       "      <td>1.91</td>\n",
       "      <td>0.64</td>\n",
       "      <td>2017-09-25</td>\n",
       "    </tr>\n",
       "    <tr>\n",
       "      <th>3</th>\n",
       "      <td>Scheduled</td>\n",
       "      <td>0.00</td>\n",
       "      <td>Scheduled Payment</td>\n",
       "      <td>0.82</td>\n",
       "      <td>1.83</td>\n",
       "      <td>96625</td>\n",
       "      <td>C</td>\n",
       "      <td>16.18</td>\n",
       "      <td>Rossco's Tree Service and contracting Ltd.</td>\n",
       "      <td>0.00</td>\n",
       "      <td>2017-09-30</td>\n",
       "      <td>1.01</td>\n",
       "      <td>1.83</td>\n",
       "      <td>0.09</td>\n",
       "      <td>Arborist - Lease Buyouts (1 of 3)</td>\n",
       "      <td>0.82</td>\n",
       "      <td>0.00</td>\n",
       "      <td>1.01</td>\n",
       "      <td>NaT</td>\n",
       "    </tr>\n",
       "    <tr>\n",
       "      <th>4</th>\n",
       "      <td>Scheduled</td>\n",
       "      <td>0.00</td>\n",
       "      <td>Scheduled Payment</td>\n",
       "      <td>0.53</td>\n",
       "      <td>0.91</td>\n",
       "      <td>36403</td>\n",
       "      <td>D+</td>\n",
       "      <td>18.40</td>\n",
       "      <td>Social Theorem Consulting Inc</td>\n",
       "      <td>0.00</td>\n",
       "      <td>2017-10-07</td>\n",
       "      <td>0.38</td>\n",
       "      <td>0.91</td>\n",
       "      <td>0.03</td>\n",
       "      <td>Digital Media Agency - Refinancing And Continued Expansion</td>\n",
       "      <td>0.53</td>\n",
       "      <td>0.00</td>\n",
       "      <td>0.38</td>\n",
       "      <td>NaT</td>\n",
       "    </tr>\n",
       "  </tbody>\n",
       "</table>\n",
       "</div>"
      ],
      "text/plain": [
       "      status  interestPaid            paymentType  principalScheduled  \\\n",
       "0  Paid       0.64              Scheduled Payment  2.83                 \n",
       "1  Paid       0.86              Scheduled Payment  2.39                 \n",
       "2  Paid       0.64              Scheduled Payment  1.27                 \n",
       "3  Scheduled  0.00              Scheduled Payment  0.82                 \n",
       "4  Scheduled  0.00              Scheduled Payment  0.53                 \n",
       "\n",
       "   totalOwed  loanID grade  interestRate  \\\n",
       "0  3.47       83910   B+    10.33          \n",
       "1  3.25       59705   D     20.67          \n",
       "2  1.91       7802    B+    10.33          \n",
       "3  1.83       96625   C     16.18          \n",
       "4  0.91       36403   D+    18.40          \n",
       "\n",
       "                                      company  principalPaid    dueDate  \\\n",
       "0  Bronze Baxx Tanning Studio Inc.             2.83          2017-09-22   \n",
       "1  Nice and Smooth Ultramedia Inc.             2.39          2017-09-22   \n",
       "2  Brightpath Capital Corporation              1.27          2017-09-25   \n",
       "3  Rossco's Tree Service and contracting Ltd.  0.00          2017-09-30   \n",
       "4  Social Theorem Consulting Inc               0.00          2017-10-07   \n",
       "\n",
       "   interestScheduled  totalScheduled  fees  \\\n",
       "0  0.64               3.47            0.09   \n",
       "1  0.86               3.25            0.06   \n",
       "2  0.64               1.91            0.09   \n",
       "3  1.01               1.83            0.09   \n",
       "4  0.38               0.91            0.03   \n",
       "\n",
       "                                                     loanName  principalOwed  \\\n",
       "0  Salon - Equipment Purchase (1 of 2)                         2.83            \n",
       "1  Concert Producer & Promoter                                 2.39            \n",
       "2  Mortgage Lender - Working Capital                           1.27            \n",
       "3  Arborist - Lease Buyouts (1 of 3)                           0.82            \n",
       "4  Digital Media Agency - Refinancing And Continued Expansion  0.53            \n",
       "\n",
       "   totalPaid  interestOwed   datePaid  \n",
       "0  3.47       0.64         2017-09-22  \n",
       "1  3.25       0.86         2017-09-23  \n",
       "2  1.91       0.64         2017-09-25  \n",
       "3  0.00       1.01         NaT         \n",
       "4  0.00       0.38         NaT         "
      ]
     },
     "execution_count": 7,
     "metadata": {},
     "output_type": "execute_result"
    }
   ],
   "source": [
    "display_DF(rawDF)"
   ]
  },
  {
   "cell_type": "markdown",
   "metadata": {},
   "source": [
    "### Initialise Base `Summary` State"
   ]
  },
  {
   "cell_type": "code",
   "execution_count": 8,
   "metadata": {
    "collapsed": true
   },
   "outputs": [],
   "source": [
    "# # TODO Update to realistic values\n",
    "# baseState = {\n",
    "#     'lifeTimeEarnings': 0.,\n",
    "#     'netROI': 0.,\n",
    "#     'availableFunds': 1500,\n",
    "#     'fundsInvested': 0.,\n",
    "#     'fundCommited': 0.,\n",
    "#     'lastUpdated': datetime.datetime(2017,9,1),\n",
    "# }"
   ]
  },
  {
   "cell_type": "markdown",
   "metadata": {},
   "source": [
    "### Add new notes to collection"
   ]
  },
  {
   "cell_type": "code",
   "execution_count": 9,
   "metadata": {
    "collapsed": true
   },
   "outputs": [],
   "source": [
    "# import_new_notes(rawDF)"
   ]
  },
  {
   "cell_type": "markdown",
   "metadata": {},
   "source": [
    "### Define Grades interest Rate"
   ]
  },
  {
   "cell_type": "code",
   "execution_count": 10,
   "metadata": {
    "collapsed": true
   },
   "outputs": [],
   "source": [
    "interestRates = {\n",
    "    'A+': 0.56,\n",
    "    'A': 1.83,\n",
    "    'B+': 3.05,\n",
    "    'B': 4.32,\n",
    "    'C+': 5.46,\n",
    "    'C': 6.25,\n",
    "    'D+': 7.11,\n",
    "    'D': 8.00,\n",
    "    'E+': 8.84,\n",
    "    'E': 9.64,\n",
    "}\n",
    "\n",
    "# Broadcast interest rates\n",
    "interestRatesBroadcast = spark.sparkContext.broadcast(interestRates)"
   ]
  },
  {
   "cell_type": "markdown",
   "metadata": {},
   "source": [
    "### Pull new collection"
   ]
  },
  {
   "cell_type": "code",
   "execution_count": 11,
   "metadata": {
    "scrolled": false
   },
   "outputs": [
    {
     "data": {
      "text/html": [
       "<div>\n",
       "<style>\n",
       "    .dataframe thead tr:only-child th {\n",
       "        text-align: right;\n",
       "    }\n",
       "\n",
       "    .dataframe thead th {\n",
       "        text-align: left;\n",
       "    }\n",
       "\n",
       "    .dataframe tbody tr th {\n",
       "        vertical-align: top;\n",
       "    }\n",
       "</style>\n",
       "<table border=\"1\" class=\"dataframe\">\n",
       "  <thead>\n",
       "    <tr style=\"text-align: right;\">\n",
       "      <th></th>\n",
       "      <th>loanID</th>\n",
       "      <th>company</th>\n",
       "      <th>loanName</th>\n",
       "      <th>interestRate</th>\n",
       "      <th>grade</th>\n",
       "      <th>cyclesTotal</th>\n",
       "      <th>principal</th>\n",
       "      <th>fees</th>\n",
       "      <th>profits</th>\n",
       "      <th>unitPayment</th>\n",
       "      <th>startDate</th>\n",
       "      <th>cyclesRemaining</th>\n",
       "      <th>badDebtFunds</th>\n",
       "      <th>amountRepayed</th>\n",
       "    </tr>\n",
       "  </thead>\n",
       "  <tbody>\n",
       "    <tr>\n",
       "      <th>0</th>\n",
       "      <td>7802</td>\n",
       "      <td>Brightpath Capital Corporation</td>\n",
       "      <td>Mortgage Lender - Working Capital</td>\n",
       "      <td>10.33</td>\n",
       "      <td>B+</td>\n",
       "      <td>48</td>\n",
       "      <td>75.0</td>\n",
       "      <td>2.45</td>\n",
       "      <td>9.44</td>\n",
       "      <td>1.91</td>\n",
       "      <td>2017-08-25</td>\n",
       "      <td>48</td>\n",
       "      <td>4.76</td>\n",
       "      <td>0.0</td>\n",
       "    </tr>\n",
       "    <tr>\n",
       "      <th>1</th>\n",
       "      <td>83910</td>\n",
       "      <td>Bronze Baxx Tanning Studio Inc.</td>\n",
       "      <td>Salon - Equipment Purchase (1 of 2)</td>\n",
       "      <td>10.33</td>\n",
       "      <td>B+</td>\n",
       "      <td>24</td>\n",
       "      <td>75.0</td>\n",
       "      <td>1.21</td>\n",
       "      <td>4.59</td>\n",
       "      <td>3.47</td>\n",
       "      <td>2017-08-22</td>\n",
       "      <td>24</td>\n",
       "      <td>2.41</td>\n",
       "      <td>0.0</td>\n",
       "    </tr>\n",
       "    <tr>\n",
       "      <th>2</th>\n",
       "      <td>90873</td>\n",
       "      <td>Nitin Chauhan Medicine Professional Corporation</td>\n",
       "      <td>Head, Neck &amp; Facial Plastic Surgeon - Working Capital</td>\n",
       "      <td>8.52</td>\n",
       "      <td>A</td>\n",
       "      <td>24</td>\n",
       "      <td>50.0</td>\n",
       "      <td>0.81</td>\n",
       "      <td>2.66</td>\n",
       "      <td>2.27</td>\n",
       "      <td>2017-09-07</td>\n",
       "      <td>24</td>\n",
       "      <td>0.96</td>\n",
       "      <td>0.0</td>\n",
       "    </tr>\n",
       "    <tr>\n",
       "      <th>3</th>\n",
       "      <td>67770</td>\n",
       "      <td>Jenco Canada Inc.</td>\n",
       "      <td>LED Lighting Distributor and Franchisor</td>\n",
       "      <td>8.52</td>\n",
       "      <td>A</td>\n",
       "      <td>12</td>\n",
       "      <td>50.0</td>\n",
       "      <td>0.42</td>\n",
       "      <td>1.38</td>\n",
       "      <td>4.36</td>\n",
       "      <td>2017-09-07</td>\n",
       "      <td>12</td>\n",
       "      <td>0.50</td>\n",
       "      <td>0.0</td>\n",
       "    </tr>\n",
       "    <tr>\n",
       "      <th>4</th>\n",
       "      <td>96625</td>\n",
       "      <td>Rossco's Tree Service and contracting Ltd.</td>\n",
       "      <td>Arborist - Lease Buyouts (1 of 3)</td>\n",
       "      <td>16.18</td>\n",
       "      <td>C</td>\n",
       "      <td>60</td>\n",
       "      <td>75.0</td>\n",
       "      <td>3.23</td>\n",
       "      <td>18.83</td>\n",
       "      <td>1.83</td>\n",
       "      <td>2017-08-31</td>\n",
       "      <td>60</td>\n",
       "      <td>12.52</td>\n",
       "      <td>0.0</td>\n",
       "    </tr>\n",
       "  </tbody>\n",
       "</table>\n",
       "</div>"
      ],
      "text/plain": [
       "   loanID                                          company  \\\n",
       "0  7802    Brightpath Capital Corporation                    \n",
       "1  83910   Bronze Baxx Tanning Studio Inc.                   \n",
       "2  90873   Nitin Chauhan Medicine Professional Corporation   \n",
       "3  67770   Jenco Canada Inc.                                 \n",
       "4  96625   Rossco's Tree Service and contracting Ltd.        \n",
       "\n",
       "                                                loanName  interestRate grade  \\\n",
       "0  Mortgage Lender - Working Capital                      10.33         B+     \n",
       "1  Salon - Equipment Purchase (1 of 2)                    10.33         B+     \n",
       "2  Head, Neck & Facial Plastic Surgeon - Working Capital  8.52          A      \n",
       "3  LED Lighting Distributor and Franchisor                8.52          A      \n",
       "4  Arborist - Lease Buyouts (1 of 3)                      16.18         C      \n",
       "\n",
       "   cyclesTotal  principal  fees  profits  unitPayment   startDate  \\\n",
       "0  48           75.0       2.45  9.44     1.91         2017-08-25   \n",
       "1  24           75.0       1.21  4.59     3.47         2017-08-22   \n",
       "2  24           50.0       0.81  2.66     2.27         2017-09-07   \n",
       "3  12           50.0       0.42  1.38     4.36         2017-09-07   \n",
       "4  60           75.0       3.23  18.83    1.83         2017-08-31   \n",
       "\n",
       "   cyclesRemaining  badDebtFunds  amountRepayed  \n",
       "0  48               4.76          0.0            \n",
       "1  24               2.41          0.0            \n",
       "2  24               0.96          0.0            \n",
       "3  12               0.50          0.0            \n",
       "4  60               12.52         0.0            "
      ]
     },
     "execution_count": 11,
     "metadata": {},
     "output_type": "execute_result"
    }
   ],
   "source": [
    "notesDF = import_new_notes(rawDF)\n",
    "display_DF(notesDF)"
   ]
  },
  {
   "cell_type": "markdown",
   "metadata": {},
   "source": [
    "### Import New Transactions"
   ]
  },
  {
   "cell_type": "code",
   "execution_count": 12,
   "metadata": {
    "code_folding": [
     0
    ],
    "collapsed": true
   },
   "outputs": [],
   "source": [
    "def update_state(rawDF, notesDF):\n",
    "    '''\n",
    "    Update state with new transactions from DF.\n",
    "    '''\n",
    "    # Obtain transactions that have occured\n",
    "    netTransactionsDF = (rawDF\n",
    "                         .filter(F.isnull('datePaid') == 'False')\n",
    "                         .groupBy('loanID')\n",
    "                         .agg(F.sum('totalPaid').alias('totalPaid')))\n",
    "    \n",
    "    # Update noteStates\n",
    "    updatedNotesStateDF = (notesDF\n",
    "                           .join(netTransactionsDF, 'loanID', 'left_outer')\n",
    "                           .withColumn('amountRepayed', F.col('amountRepayed') + F.col('totalPaid'))\n",
    "                           .withColumn('cyclesRemaining', F.col('cyclesRemaining') - 1)\n",
    "                           .drop('totalPaid')\n",
    "                           .fillna(0.0)\n",
    "                           .cache())\n",
    "    \n",
    "    return updatedNotesStateDF"
   ]
  },
  {
   "cell_type": "code",
   "execution_count": 13,
   "metadata": {
    "scrolled": false
   },
   "outputs": [
    {
     "data": {
      "text/html": [
       "<div>\n",
       "<style>\n",
       "    .dataframe thead tr:only-child th {\n",
       "        text-align: right;\n",
       "    }\n",
       "\n",
       "    .dataframe thead th {\n",
       "        text-align: left;\n",
       "    }\n",
       "\n",
       "    .dataframe tbody tr th {\n",
       "        vertical-align: top;\n",
       "    }\n",
       "</style>\n",
       "<table border=\"1\" class=\"dataframe\">\n",
       "  <thead>\n",
       "    <tr style=\"text-align: right;\">\n",
       "      <th></th>\n",
       "      <th>loanID</th>\n",
       "      <th>company</th>\n",
       "      <th>loanName</th>\n",
       "      <th>interestRate</th>\n",
       "      <th>grade</th>\n",
       "      <th>cyclesTotal</th>\n",
       "      <th>principal</th>\n",
       "      <th>fees</th>\n",
       "      <th>profits</th>\n",
       "      <th>unitPayment</th>\n",
       "      <th>startDate</th>\n",
       "      <th>cyclesRemaining</th>\n",
       "      <th>badDebtFunds</th>\n",
       "      <th>amountRepayed</th>\n",
       "    </tr>\n",
       "  </thead>\n",
       "  <tbody>\n",
       "    <tr>\n",
       "      <th>0</th>\n",
       "      <td>7802</td>\n",
       "      <td>Brightpath Capital Corporation</td>\n",
       "      <td>Mortgage Lender - Working Capital</td>\n",
       "      <td>10.33</td>\n",
       "      <td>B+</td>\n",
       "      <td>48</td>\n",
       "      <td>75.0</td>\n",
       "      <td>2.45</td>\n",
       "      <td>9.44</td>\n",
       "      <td>1.91</td>\n",
       "      <td>2017-08-25</td>\n",
       "      <td>47</td>\n",
       "      <td>4.76</td>\n",
       "      <td>1.91</td>\n",
       "    </tr>\n",
       "    <tr>\n",
       "      <th>1</th>\n",
       "      <td>83910</td>\n",
       "      <td>Bronze Baxx Tanning Studio Inc.</td>\n",
       "      <td>Salon - Equipment Purchase (1 of 2)</td>\n",
       "      <td>10.33</td>\n",
       "      <td>B+</td>\n",
       "      <td>24</td>\n",
       "      <td>75.0</td>\n",
       "      <td>1.21</td>\n",
       "      <td>4.59</td>\n",
       "      <td>3.47</td>\n",
       "      <td>2017-08-22</td>\n",
       "      <td>23</td>\n",
       "      <td>2.41</td>\n",
       "      <td>3.47</td>\n",
       "    </tr>\n",
       "    <tr>\n",
       "      <th>2</th>\n",
       "      <td>90873</td>\n",
       "      <td>Nitin Chauhan Medicine Professional Corporation</td>\n",
       "      <td>Head, Neck &amp; Facial Plastic Surgeon - Working Capital</td>\n",
       "      <td>8.52</td>\n",
       "      <td>A</td>\n",
       "      <td>24</td>\n",
       "      <td>50.0</td>\n",
       "      <td>0.81</td>\n",
       "      <td>2.66</td>\n",
       "      <td>2.27</td>\n",
       "      <td>2017-09-07</td>\n",
       "      <td>23</td>\n",
       "      <td>0.96</td>\n",
       "      <td>0.00</td>\n",
       "    </tr>\n",
       "    <tr>\n",
       "      <th>3</th>\n",
       "      <td>67770</td>\n",
       "      <td>Jenco Canada Inc.</td>\n",
       "      <td>LED Lighting Distributor and Franchisor</td>\n",
       "      <td>8.52</td>\n",
       "      <td>A</td>\n",
       "      <td>12</td>\n",
       "      <td>50.0</td>\n",
       "      <td>0.42</td>\n",
       "      <td>1.38</td>\n",
       "      <td>4.36</td>\n",
       "      <td>2017-09-07</td>\n",
       "      <td>11</td>\n",
       "      <td>0.50</td>\n",
       "      <td>0.00</td>\n",
       "    </tr>\n",
       "    <tr>\n",
       "      <th>4</th>\n",
       "      <td>96625</td>\n",
       "      <td>Rossco's Tree Service and contracting Ltd.</td>\n",
       "      <td>Arborist - Lease Buyouts (1 of 3)</td>\n",
       "      <td>16.18</td>\n",
       "      <td>C</td>\n",
       "      <td>60</td>\n",
       "      <td>75.0</td>\n",
       "      <td>3.23</td>\n",
       "      <td>18.83</td>\n",
       "      <td>1.83</td>\n",
       "      <td>2017-08-31</td>\n",
       "      <td>59</td>\n",
       "      <td>12.52</td>\n",
       "      <td>0.00</td>\n",
       "    </tr>\n",
       "    <tr>\n",
       "      <th>5</th>\n",
       "      <td>83061</td>\n",
       "      <td>J.K. ENGINEERING LTD</td>\n",
       "      <td>Infrastructure Engineering and Construction Firm - Second Loan</td>\n",
       "      <td>8.52</td>\n",
       "      <td>A</td>\n",
       "      <td>36</td>\n",
       "      <td>100.0</td>\n",
       "      <td>2.42</td>\n",
       "      <td>8.21</td>\n",
       "      <td>3.15</td>\n",
       "      <td>2017-09-15</td>\n",
       "      <td>35</td>\n",
       "      <td>2.85</td>\n",
       "      <td>0.00</td>\n",
       "    </tr>\n",
       "    <tr>\n",
       "      <th>6</th>\n",
       "      <td>73245</td>\n",
       "      <td>IT MULTISERVICES MG&amp;CG INC.</td>\n",
       "      <td>E-commerce Company - Inventory Purchase</td>\n",
       "      <td>16.18</td>\n",
       "      <td>C</td>\n",
       "      <td>24</td>\n",
       "      <td>25.0</td>\n",
       "      <td>0.41</td>\n",
       "      <td>2.22</td>\n",
       "      <td>1.22</td>\n",
       "      <td>2017-09-07</td>\n",
       "      <td>23</td>\n",
       "      <td>1.66</td>\n",
       "      <td>0.00</td>\n",
       "    </tr>\n",
       "    <tr>\n",
       "      <th>7</th>\n",
       "      <td>36403</td>\n",
       "      <td>Social Theorem Consulting Inc</td>\n",
       "      <td>Digital Media Agency - Refinancing And Continued Expansion</td>\n",
       "      <td>18.40</td>\n",
       "      <td>D+</td>\n",
       "      <td>36</td>\n",
       "      <td>25.0</td>\n",
       "      <td>0.63</td>\n",
       "      <td>4.06</td>\n",
       "      <td>0.90</td>\n",
       "      <td>2017-09-07</td>\n",
       "      <td>35</td>\n",
       "      <td>2.83</td>\n",
       "      <td>0.00</td>\n",
       "    </tr>\n",
       "    <tr>\n",
       "      <th>8</th>\n",
       "      <td>45851</td>\n",
       "      <td>The Extensionist Consultancy Inc</td>\n",
       "      <td>Salon Chain - Inventory Purchase</td>\n",
       "      <td>12.20</td>\n",
       "      <td>B</td>\n",
       "      <td>36</td>\n",
       "      <td>75.0</td>\n",
       "      <td>1.84</td>\n",
       "      <td>7.80</td>\n",
       "      <td>2.49</td>\n",
       "      <td>2017-09-14</td>\n",
       "      <td>35</td>\n",
       "      <td>5.10</td>\n",
       "      <td>0.00</td>\n",
       "    </tr>\n",
       "    <tr>\n",
       "      <th>9</th>\n",
       "      <td>87799</td>\n",
       "      <td>1005351 BC LTD. O/A Liberty Tax Service</td>\n",
       "      <td>Liberty Tax - Territory Expansion</td>\n",
       "      <td>10.33</td>\n",
       "      <td>B+</td>\n",
       "      <td>48</td>\n",
       "      <td>25.0</td>\n",
       "      <td>0.82</td>\n",
       "      <td>2.99</td>\n",
       "      <td>0.63</td>\n",
       "      <td>2017-09-24</td>\n",
       "      <td>47</td>\n",
       "      <td>1.59</td>\n",
       "      <td>0.00</td>\n",
       "    </tr>\n",
       "  </tbody>\n",
       "</table>\n",
       "</div>"
      ],
      "text/plain": [
       "   loanID                                          company  \\\n",
       "0  7802    Brightpath Capital Corporation                    \n",
       "1  83910   Bronze Baxx Tanning Studio Inc.                   \n",
       "2  90873   Nitin Chauhan Medicine Professional Corporation   \n",
       "3  67770   Jenco Canada Inc.                                 \n",
       "4  96625   Rossco's Tree Service and contracting Ltd.        \n",
       "5  83061   J.K. ENGINEERING LTD                              \n",
       "6  73245   IT MULTISERVICES MG&CG INC.                       \n",
       "7  36403   Social Theorem Consulting Inc                     \n",
       "8  45851   The Extensionist Consultancy Inc                  \n",
       "9  87799   1005351 BC LTD. O/A Liberty Tax Service           \n",
       "\n",
       "                                                         loanName  \\\n",
       "0  Mortgage Lender - Working Capital                                \n",
       "1  Salon - Equipment Purchase (1 of 2)                              \n",
       "2  Head, Neck & Facial Plastic Surgeon - Working Capital            \n",
       "3  LED Lighting Distributor and Franchisor                          \n",
       "4  Arborist - Lease Buyouts (1 of 3)                                \n",
       "5  Infrastructure Engineering and Construction Firm - Second Loan   \n",
       "6  E-commerce Company - Inventory Purchase                          \n",
       "7  Digital Media Agency - Refinancing And Continued Expansion       \n",
       "8  Salon Chain - Inventory Purchase                                 \n",
       "9  Liberty Tax - Territory Expansion                                \n",
       "\n",
       "   interestRate grade  cyclesTotal  principal  fees  profits  unitPayment  \\\n",
       "0  10.33         B+    48           75.0       2.45  9.44     1.91          \n",
       "1  10.33         B+    24           75.0       1.21  4.59     3.47          \n",
       "2  8.52          A     24           50.0       0.81  2.66     2.27          \n",
       "3  8.52          A     12           50.0       0.42  1.38     4.36          \n",
       "4  16.18         C     60           75.0       3.23  18.83    1.83          \n",
       "5  8.52          A     36           100.0      2.42  8.21     3.15          \n",
       "6  16.18         C     24           25.0       0.41  2.22     1.22          \n",
       "7  18.40         D+    36           25.0       0.63  4.06     0.90          \n",
       "8  12.20         B     36           75.0       1.84  7.80     2.49          \n",
       "9  10.33         B+    48           25.0       0.82  2.99     0.63          \n",
       "\n",
       "    startDate  cyclesRemaining  badDebtFunds  amountRepayed  \n",
       "0  2017-08-25  47               4.76          1.91           \n",
       "1  2017-08-22  23               2.41          3.47           \n",
       "2  2017-09-07  23               0.96          0.00           \n",
       "3  2017-09-07  11               0.50          0.00           \n",
       "4  2017-08-31  59               12.52         0.00           \n",
       "5  2017-09-15  35               2.85          0.00           \n",
       "6  2017-09-07  23               1.66          0.00           \n",
       "7  2017-09-07  35               2.83          0.00           \n",
       "8  2017-09-14  35               5.10          0.00           \n",
       "9  2017-09-24  47               1.59          0.00           "
      ]
     },
     "execution_count": 13,
     "metadata": {},
     "output_type": "execute_result"
    }
   ],
   "source": [
    "notesDF = update_state(rawDF, notesDF)\n",
    "display_DF(notesDF, 10)"
   ]
  },
  {
   "cell_type": "markdown",
   "metadata": {},
   "source": [
    "### Create custom progress bar"
   ]
  },
  {
   "cell_type": "code",
   "execution_count": 14,
   "metadata": {
    "code_folding": [
     4
    ],
    "collapsed": true
   },
   "outputs": [],
   "source": [
    "def progress_bar(DF):\n",
    "    '''\n",
    "    Creates a custom progress bar based on notesDF.\n",
    "    '''\n",
    "    def _convert_to_list(colName):\n",
    "        '''\n",
    "        Extract the colName of notesDF as a list, with each entry rounded to 2 decimal places.\n",
    "        '''\n",
    "        return (DF\n",
    "                .select(colName)\n",
    "                .rdd\n",
    "                .map(lambda x: x[0] if colName == 'company' or colName == 'monthsToBreakeven' else round(x[0], 2))\n",
    "                .collect())\n",
    "    \n",
    "    def _create_trace(colName):\n",
    "        '''\n",
    "        Create a trace based on colName.\n",
    "        '''\n",
    "        colourDict = {\n",
    "            'feesPaid': '#585858', \n",
    "            'nextFeesPayment': '#848484', \n",
    "            'feesOutstanding': '#BDBDBD', \n",
    "            'principalReceived': '#512361',\n",
    "            'nextPrincipalPayment': '#9165AE',\n",
    "            'principalOutstanding': '#C2B2C8',\n",
    "            'badDebtFundsReceived': '#FF8000',\n",
    "            'nextBadDebtFundsPayment': '#FAAC58',\n",
    "            'badDebtFundsOutstanding': '#F5D0A9',\n",
    "            'profitsReceived': '#72C02C', \n",
    "            'nextProfitsPayment': '#a2de6e',\n",
    "            'profitsOutstanding': '#d7f1c1'\n",
    "        }\n",
    "        \n",
    "        names = {\n",
    "            'feesPaid': 'Fees Paid', \n",
    "            'nextFeesPayment': 'Next Fee Payment', \n",
    "            'feesOutstanding': 'Fees Outstanding', \n",
    "            'principalReceived': 'Principal Received',\n",
    "            'nextPrincipalPayment': 'Next Principal Payment',\n",
    "            'principalOutstanding': 'Principal Outstanding', \n",
    "            'badDebtFundsReceived': 'Bad Debt Funds Received',\n",
    "            'nextBadDebtFundsPayment': 'Next Bad Debt Funds Payment',\n",
    "            'badDebtFundsOutstanding': 'Bad Debt Funds Outstanding',\n",
    "            'profitsReceived': 'Profits Received', \n",
    "            'nextProfitsPayment': 'Next Profit Payment',\n",
    "            'profitsOutstanding': 'Profits Outstanding'\n",
    "        }\n",
    "        \n",
    "        groups = {\n",
    "            'feesPaid': 'Fees', \n",
    "            'nextFeesPayment': 'Fees', \n",
    "            'feesOutstanding': 'Fees',  \n",
    "            'principalReceived': 'Principal',\n",
    "            'nextPrincipalPayment': 'Principal',\n",
    "            'principalOutstanding': 'Principal', \n",
    "            'badDebtFundsReceived': 'Bad Debt Funds',\n",
    "            'nextBadDebtFundsPayment': 'Bad Debt Funds',\n",
    "            'badDebtFundsOutstanding': 'Bad Debt Funds',\n",
    "            'profitsReceived': 'Profits', \n",
    "            'nextProfitsPayment': 'Profits',\n",
    "            'profitsOutstanding': 'Profits'\n",
    "        }\n",
    "        \n",
    "        return go.Bar(\n",
    "            x = _convert_to_list(colName),\n",
    "            y = companiesList,\n",
    "            name = names[colName],\n",
    "            orientation = 'h',\n",
    "            width = 0.75,\n",
    "            hoverinfo = 'text',\n",
    "            text = ['' if val == 0 else '${}'.format(val) for val in _convert_to_list(colName)],\n",
    "            legendgroup = groups[colName],\n",
    "            marker = {\n",
    "                'color': colourDict[colName],\n",
    "                'line': {'width': 0.}\n",
    "            }\n",
    "        )\n",
    "    \n",
    "    # Define helper function\n",
    "    def _min_max(x, minVal, maxVal):\n",
    "        assert minVal <= maxVal\n",
    "        return max(minVal, min(x, maxVal))\n",
    "    \n",
    "    def _capitalise_first_letter(string):\n",
    "        return ''.join([char.upper() if i == 0 else char for i, char in enumerate(string)])\n",
    "    \n",
    "    # Define udfs\n",
    "    @F.udf(returnType=T.FloatType())\n",
    "    def calc_received(val, maxVal, *args):\n",
    "        return _min_max(val - sum(args), 0., maxVal)\n",
    "    \n",
    "    @F.udf(returnType=T.FloatType())\n",
    "    def calc_next_payment(val, maxVal, unitPayment, *args):\n",
    "        # Handle case when nextPMT spills over from previous category\n",
    "        if (val - sum(args) < 0):\n",
    "            return _min_max(unitPayment - (sum(args) - val), 0., unitPayment)\n",
    "        \n",
    "        remainder = _min_max(maxVal - (val - sum(args)), 0., maxVal)\n",
    "        return min(remainder, unitPayment)\n",
    "    \n",
    "    @F.udf(returnType=T.FloatType())\n",
    "    def calc_outstanding(val, maxVal, unitPayment, *args):\n",
    "        return _min_max(maxVal - (val + unitPayment - sum(args)), 0., maxVal)\n",
    "    \n",
    "    @F.udf(returnType=T.IntegerType())\n",
    "    def months_to_breakeven(nextPrincipalPayment, principalOutstanding, unitPayment):\n",
    "        return int(math.ceil((nextPrincipalPayment + principalOutstanding) / unitPayment))\n",
    "    \n",
    "        \n",
    "    \n",
    "    # Add relevant columns to notesDF\n",
    "    \n",
    "    categories = ['fees', 'principal', 'badDebtFunds', 'profits']\n",
    "    \n",
    "    # Add `received`, `next_payment` and `outstanding` columns programmatically\n",
    "    for i, category in enumerate(categories):\n",
    "        DF = (DF\n",
    "              .withColumn('{}Received'.format(category) if category != 'fees' else 'feesPaid', \n",
    "                          calc_received('amountRepayed', category, *categories[:i]))\n",
    "              .withColumn('next{}Payment'.format(_capitalise_first_letter(category)), \n",
    "                          calc_next_payment('amountRepayed', category, 'unitPayment', *categories[:i]))\n",
    "              .withColumn('{}Outstanding'.format(category), \n",
    "                          calc_outstanding('amountRepayed', category, 'unitPayment', *categories[:i])))\n",
    "        \n",
    "    # Add `monthsToBreakeven` column\n",
    "    DF = (DF.withColumn('monthsToBreakeven', \n",
    "                        months_to_breakeven('nextPrincipalPayment',\n",
    "                                            'principalOutstanding',\n",
    "                                            'unitPayment'))\n",
    "          .orderBy(['feesPaid', 'principal', 'principalOutstanding', 'interestRate', 'cyclesTotal'], \n",
    "                   ascending=[1, 1, 0, 1, 1])\n",
    "          .cache())\n",
    "    \n",
    "    # Obtain list of companies\n",
    "    companiesList = _convert_to_list('company')\n",
    "    \n",
    "    # Create keys for traces\n",
    "    _megaList = [['{}Received'.format(category) if category != 'fees' else 'feesPaid', \n",
    "                 'next{}Payment'.format((_capitalise_first_letter(category))), \n",
    "                 '{}Outstanding'.format(category)] for category in categories]\n",
    "    \n",
    "    keys = [item for sublist in _megaList for item in sublist]\n",
    "    \n",
    "    # Create traces\n",
    "    traces = []\n",
    "    for key in keys:\n",
    "        traces.append(_create_trace(key))\n",
    "    data = go.Data(traces)\n",
    "    \n",
    "    # Create annotations\n",
    "    annotationData = (DF\n",
    "                      .select('company', 'principal', 'monthsToBreakeven')\n",
    "                      .collect())\n",
    "    annotations = [{\n",
    "            'x': row['principal'] - 2,\n",
    "            'y': row['company'],\n",
    "            'text': row['monthsToBreakeven'] if row['monthsToBreakeven'] > 0 else '',\n",
    "            'font': {\n",
    "                'family': 'Arial',\n",
    "                'size': 14,\n",
    "                'color': 'rgb(255, 255, 255)'},\n",
    "            'showarrow': False\n",
    "        } for row in annotationData]\n",
    "    \n",
    "    # Create layout\n",
    "    layout = go.Layout(\n",
    "        height = 30 * notesDF.count() + 280,\n",
    "        xaxis = {\n",
    "            'domain': [0.2, 1],\n",
    "            'tickprefix': '$'\n",
    "        },\n",
    "        barmode = 'stack',\n",
    "        legend = {\n",
    "            'orientation': 'h',\n",
    "            'traceorder': 'grouped'\n",
    "        },\n",
    "        annotations = annotations\n",
    "    )\n",
    "    \n",
    "    figure = go.Figure(data=data, layout=layout)\n",
    "    \n",
    "    pyo.iplot(figure)"
   ]
  },
  {
   "cell_type": "code",
   "execution_count": 15,
   "metadata": {
    "scrolled": false
   },
   "outputs": [
    {
     "data": {
      "application/vnd.plotly.v1+json": {
       "data": [
        {
         "hoverinfo": "text",
         "legendgroup": "Fees",
         "marker": {
          "color": "#585858",
          "line": {
           "width": 0
          }
         },
         "name": "Fees Paid",
         "orientation": "h",
         "text": [
          "",
          "",
          "",
          "",
          "",
          "",
          "",
          "",
          "",
          "",
          "",
          "",
          "",
          "",
          "",
          "$0.62",
          "$1.21",
          "$1.91"
         ],
         "type": "bar",
         "width": 0.75,
         "x": [
          0,
          0,
          0,
          0,
          0,
          0,
          0,
          0,
          0,
          0,
          0,
          0,
          0,
          0,
          0,
          0.62,
          1.21,
          1.91
         ],
         "y": [
          "1005351 BC LTD. O/A Liberty Tax Service",
          "631343 alberta ltd",
          "Social Theorem Consulting Inc",
          "IT MULTISERVICES MG&CG INC.",
          "Nitin Chauhan Medicine Professional Corporation",
          "Jenco Canada Inc.",
          "Rossco's Tree Service and contracting Ltd.",
          "NuEnergy Systems Inc.",
          "SCG Sign City Group Inc",
          "Snakes & Lattes Inc.",
          "The Extensionist Consultancy Inc",
          "Vera's Burger Shack Inc.",
          "5686645 Manitoba LTD.",
          "Anthony C. C. Chan Inc",
          "J.K. ENGINEERING LTD",
          "Nice and Smooth Ultramedia Inc.",
          "Bronze Baxx Tanning Studio Inc.",
          "Brightpath Capital Corporation"
         ]
        },
        {
         "hoverinfo": "text",
         "legendgroup": "Fees",
         "marker": {
          "color": "#848484",
          "line": {
           "width": 0
          }
         },
         "name": "Next Fee Payment",
         "orientation": "h",
         "text": [
          "$0.63",
          "$0.62",
          "$0.63",
          "$0.41",
          "$0.81",
          "$0.42",
          "$1.83",
          "$1.78",
          "$1.82",
          "$1.82",
          "$1.84",
          "$1.84",
          "$1.86",
          "$1.21",
          "$2.42",
          "",
          "",
          "$0.54"
         ],
         "type": "bar",
         "width": 0.75,
         "x": [
          0.63,
          0.62,
          0.63,
          0.41,
          0.81,
          0.42,
          1.83,
          1.78,
          1.82,
          1.82,
          1.84,
          1.84,
          1.86,
          1.21,
          2.42,
          0,
          0,
          0.54
         ],
         "y": [
          "1005351 BC LTD. O/A Liberty Tax Service",
          "631343 alberta ltd",
          "Social Theorem Consulting Inc",
          "IT MULTISERVICES MG&CG INC.",
          "Nitin Chauhan Medicine Professional Corporation",
          "Jenco Canada Inc.",
          "Rossco's Tree Service and contracting Ltd.",
          "NuEnergy Systems Inc.",
          "SCG Sign City Group Inc",
          "Snakes & Lattes Inc.",
          "The Extensionist Consultancy Inc",
          "Vera's Burger Shack Inc.",
          "5686645 Manitoba LTD.",
          "Anthony C. C. Chan Inc",
          "J.K. ENGINEERING LTD",
          "Nice and Smooth Ultramedia Inc.",
          "Bronze Baxx Tanning Studio Inc.",
          "Brightpath Capital Corporation"
         ]
        },
        {
         "hoverinfo": "text",
         "legendgroup": "Fees",
         "marker": {
          "color": "#BDBDBD",
          "line": {
           "width": 0
          }
         },
         "name": "Fees Outstanding",
         "orientation": "h",
         "text": [
          "$0.19",
          "",
          "",
          "",
          "",
          "",
          "$1.4",
          "",
          "",
          "",
          "",
          "",
          "",
          "",
          "",
          "",
          "",
          ""
         ],
         "type": "bar",
         "width": 0.75,
         "x": [
          0.19,
          0,
          0,
          0,
          0,
          0,
          1.4,
          0,
          0,
          0,
          0,
          0,
          0,
          0,
          0,
          0,
          0,
          0
         ],
         "y": [
          "1005351 BC LTD. O/A Liberty Tax Service",
          "631343 alberta ltd",
          "Social Theorem Consulting Inc",
          "IT MULTISERVICES MG&CG INC.",
          "Nitin Chauhan Medicine Professional Corporation",
          "Jenco Canada Inc.",
          "Rossco's Tree Service and contracting Ltd.",
          "NuEnergy Systems Inc.",
          "SCG Sign City Group Inc",
          "Snakes & Lattes Inc.",
          "The Extensionist Consultancy Inc",
          "Vera's Burger Shack Inc.",
          "5686645 Manitoba LTD.",
          "Anthony C. C. Chan Inc",
          "J.K. ENGINEERING LTD",
          "Nice and Smooth Ultramedia Inc.",
          "Bronze Baxx Tanning Studio Inc.",
          "Brightpath Capital Corporation"
         ]
        },
        {
         "hoverinfo": "text",
         "legendgroup": "Principal",
         "marker": {
          "color": "#512361",
          "line": {
           "width": 0
          }
         },
         "name": "Principal Received",
         "orientation": "h",
         "text": [
          "",
          "",
          "",
          "",
          "",
          "",
          "",
          "",
          "",
          "",
          "",
          "",
          "",
          "",
          "",
          "$2.63",
          "$2.26",
          ""
         ],
         "type": "bar",
         "width": 0.75,
         "x": [
          0,
          0,
          0,
          0,
          0,
          0,
          0,
          0,
          0,
          0,
          0,
          0,
          0,
          0,
          0,
          2.63,
          2.26,
          0
         ],
         "y": [
          "1005351 BC LTD. O/A Liberty Tax Service",
          "631343 alberta ltd",
          "Social Theorem Consulting Inc",
          "IT MULTISERVICES MG&CG INC.",
          "Nitin Chauhan Medicine Professional Corporation",
          "Jenco Canada Inc.",
          "Rossco's Tree Service and contracting Ltd.",
          "NuEnergy Systems Inc.",
          "SCG Sign City Group Inc",
          "Snakes & Lattes Inc.",
          "The Extensionist Consultancy Inc",
          "Vera's Burger Shack Inc.",
          "5686645 Manitoba LTD.",
          "Anthony C. C. Chan Inc",
          "J.K. ENGINEERING LTD",
          "Nice and Smooth Ultramedia Inc.",
          "Bronze Baxx Tanning Studio Inc.",
          "Brightpath Capital Corporation"
         ]
        },
        {
         "hoverinfo": "text",
         "legendgroup": "Principal",
         "marker": {
          "color": "#9165AE",
          "line": {
           "width": 0
          }
         },
         "name": "Next Principal Payment",
         "orientation": "h",
         "text": [
          "",
          "$0.23",
          "$0.27",
          "$0.81",
          "$1.46",
          "$3.94",
          "",
          "$0.52",
          "$0.61",
          "$0.61",
          "$0.65",
          "$0.65",
          "$0.78",
          "$2.26",
          "$0.73",
          "$3.25",
          "$3.47",
          "$1.37"
         ],
         "type": "bar",
         "width": 0.75,
         "x": [
          0,
          0.23,
          0.27,
          0.81,
          1.46,
          3.94,
          0,
          0.52,
          0.61,
          0.61,
          0.65,
          0.65,
          0.78,
          2.26,
          0.73,
          3.25,
          3.47,
          1.37
         ],
         "y": [
          "1005351 BC LTD. O/A Liberty Tax Service",
          "631343 alberta ltd",
          "Social Theorem Consulting Inc",
          "IT MULTISERVICES MG&CG INC.",
          "Nitin Chauhan Medicine Professional Corporation",
          "Jenco Canada Inc.",
          "Rossco's Tree Service and contracting Ltd.",
          "NuEnergy Systems Inc.",
          "SCG Sign City Group Inc",
          "Snakes & Lattes Inc.",
          "The Extensionist Consultancy Inc",
          "Vera's Burger Shack Inc.",
          "5686645 Manitoba LTD.",
          "Anthony C. C. Chan Inc",
          "J.K. ENGINEERING LTD",
          "Nice and Smooth Ultramedia Inc.",
          "Bronze Baxx Tanning Studio Inc.",
          "Brightpath Capital Corporation"
         ]
        },
        {
         "hoverinfo": "text",
         "legendgroup": "Principal",
         "marker": {
          "color": "#C2B2C8",
          "line": {
           "width": 0
          }
         },
         "name": "Principal Outstanding",
         "orientation": "h",
         "text": [
          "$25.0",
          "$24.77",
          "$24.73",
          "$24.19",
          "$48.54",
          "$46.06",
          "$75.0",
          "$74.48",
          "$74.39",
          "$74.39",
          "$74.35",
          "$74.35",
          "$74.22",
          "$72.74",
          "$99.27",
          "$44.12",
          "$69.27",
          "$73.63"
         ],
         "type": "bar",
         "width": 0.75,
         "x": [
          25,
          24.77,
          24.73,
          24.19,
          48.54,
          46.06,
          75,
          74.48,
          74.39,
          74.39,
          74.35,
          74.35,
          74.22,
          72.74,
          99.27,
          44.12,
          69.27,
          73.63
         ],
         "y": [
          "1005351 BC LTD. O/A Liberty Tax Service",
          "631343 alberta ltd",
          "Social Theorem Consulting Inc",
          "IT MULTISERVICES MG&CG INC.",
          "Nitin Chauhan Medicine Professional Corporation",
          "Jenco Canada Inc.",
          "Rossco's Tree Service and contracting Ltd.",
          "NuEnergy Systems Inc.",
          "SCG Sign City Group Inc",
          "Snakes & Lattes Inc.",
          "The Extensionist Consultancy Inc",
          "Vera's Burger Shack Inc.",
          "5686645 Manitoba LTD.",
          "Anthony C. C. Chan Inc",
          "J.K. ENGINEERING LTD",
          "Nice and Smooth Ultramedia Inc.",
          "Bronze Baxx Tanning Studio Inc.",
          "Brightpath Capital Corporation"
         ]
        },
        {
         "hoverinfo": "text",
         "legendgroup": "Bad Debt Funds",
         "marker": {
          "color": "#FF8000",
          "line": {
           "width": 0
          }
         },
         "name": "Bad Debt Funds Received",
         "orientation": "h",
         "text": [
          "",
          "",
          "",
          "",
          "",
          "",
          "",
          "",
          "",
          "",
          "",
          "",
          "",
          "",
          "",
          "",
          "",
          ""
         ],
         "type": "bar",
         "width": 0.75,
         "x": [
          0,
          0,
          0,
          0,
          0,
          0,
          0,
          0,
          0,
          0,
          0,
          0,
          0,
          0,
          0,
          0,
          0,
          0
         ],
         "y": [
          "1005351 BC LTD. O/A Liberty Tax Service",
          "631343 alberta ltd",
          "Social Theorem Consulting Inc",
          "IT MULTISERVICES MG&CG INC.",
          "Nitin Chauhan Medicine Professional Corporation",
          "Jenco Canada Inc.",
          "Rossco's Tree Service and contracting Ltd.",
          "NuEnergy Systems Inc.",
          "SCG Sign City Group Inc",
          "Snakes & Lattes Inc.",
          "The Extensionist Consultancy Inc",
          "Vera's Burger Shack Inc.",
          "5686645 Manitoba LTD.",
          "Anthony C. C. Chan Inc",
          "J.K. ENGINEERING LTD",
          "Nice and Smooth Ultramedia Inc.",
          "Bronze Baxx Tanning Studio Inc.",
          "Brightpath Capital Corporation"
         ]
        },
        {
         "hoverinfo": "text",
         "legendgroup": "Bad Debt Funds",
         "marker": {
          "color": "#FAAC58",
          "line": {
           "width": 0
          }
         },
         "name": "Next Bad Debt Funds Payment",
         "orientation": "h",
         "text": [
          "",
          "",
          "",
          "",
          "",
          "",
          "",
          "",
          "",
          "",
          "",
          "",
          "",
          "",
          "",
          "",
          "",
          ""
         ],
         "type": "bar",
         "width": 0.75,
         "x": [
          0,
          0,
          0,
          0,
          0,
          0,
          0,
          0,
          0,
          0,
          0,
          0,
          0,
          0,
          0,
          0,
          0,
          0
         ],
         "y": [
          "1005351 BC LTD. O/A Liberty Tax Service",
          "631343 alberta ltd",
          "Social Theorem Consulting Inc",
          "IT MULTISERVICES MG&CG INC.",
          "Nitin Chauhan Medicine Professional Corporation",
          "Jenco Canada Inc.",
          "Rossco's Tree Service and contracting Ltd.",
          "NuEnergy Systems Inc.",
          "SCG Sign City Group Inc",
          "Snakes & Lattes Inc.",
          "The Extensionist Consultancy Inc",
          "Vera's Burger Shack Inc.",
          "5686645 Manitoba LTD.",
          "Anthony C. C. Chan Inc",
          "J.K. ENGINEERING LTD",
          "Nice and Smooth Ultramedia Inc.",
          "Bronze Baxx Tanning Studio Inc.",
          "Brightpath Capital Corporation"
         ]
        },
        {
         "hoverinfo": "text",
         "legendgroup": "Bad Debt Funds",
         "marker": {
          "color": "#F5D0A9",
          "line": {
           "width": 0
          }
         },
         "name": "Bad Debt Funds Outstanding",
         "orientation": "h",
         "text": [
          "$1.59",
          "$2.16",
          "$2.83",
          "$1.66",
          "$0.96",
          "$0.5",
          "$12.52",
          "$0.65",
          "$3.58",
          "$3.58",
          "$5.1",
          "$5.1",
          "$7.45",
          "$2.41",
          "$2.85",
          "$3.23",
          "$2.41",
          "$4.76"
         ],
         "type": "bar",
         "width": 0.75,
         "x": [
          1.59,
          2.16,
          2.83,
          1.66,
          0.96,
          0.5,
          12.52,
          0.65,
          3.58,
          3.58,
          5.1,
          5.1,
          7.45,
          2.41,
          2.85,
          3.23,
          2.41,
          4.76
         ],
         "y": [
          "1005351 BC LTD. O/A Liberty Tax Service",
          "631343 alberta ltd",
          "Social Theorem Consulting Inc",
          "IT MULTISERVICES MG&CG INC.",
          "Nitin Chauhan Medicine Professional Corporation",
          "Jenco Canada Inc.",
          "Rossco's Tree Service and contracting Ltd.",
          "NuEnergy Systems Inc.",
          "SCG Sign City Group Inc",
          "Snakes & Lattes Inc.",
          "The Extensionist Consultancy Inc",
          "Vera's Burger Shack Inc.",
          "5686645 Manitoba LTD.",
          "Anthony C. C. Chan Inc",
          "J.K. ENGINEERING LTD",
          "Nice and Smooth Ultramedia Inc.",
          "Bronze Baxx Tanning Studio Inc.",
          "Brightpath Capital Corporation"
         ]
        },
        {
         "hoverinfo": "text",
         "legendgroup": "Profits",
         "marker": {
          "color": "#72C02C",
          "line": {
           "width": 0
          }
         },
         "name": "Profits Received",
         "orientation": "h",
         "text": [
          "",
          "",
          "",
          "",
          "",
          "",
          "",
          "",
          "",
          "",
          "",
          "",
          "",
          "",
          "",
          "",
          "",
          ""
         ],
         "type": "bar",
         "width": 0.75,
         "x": [
          0,
          0,
          0,
          0,
          0,
          0,
          0,
          0,
          0,
          0,
          0,
          0,
          0,
          0,
          0,
          0,
          0,
          0
         ],
         "y": [
          "1005351 BC LTD. O/A Liberty Tax Service",
          "631343 alberta ltd",
          "Social Theorem Consulting Inc",
          "IT MULTISERVICES MG&CG INC.",
          "Nitin Chauhan Medicine Professional Corporation",
          "Jenco Canada Inc.",
          "Rossco's Tree Service and contracting Ltd.",
          "NuEnergy Systems Inc.",
          "SCG Sign City Group Inc",
          "Snakes & Lattes Inc.",
          "The Extensionist Consultancy Inc",
          "Vera's Burger Shack Inc.",
          "5686645 Manitoba LTD.",
          "Anthony C. C. Chan Inc",
          "J.K. ENGINEERING LTD",
          "Nice and Smooth Ultramedia Inc.",
          "Bronze Baxx Tanning Studio Inc.",
          "Brightpath Capital Corporation"
         ]
        },
        {
         "hoverinfo": "text",
         "legendgroup": "Profits",
         "marker": {
          "color": "#a2de6e",
          "line": {
           "width": 0
          }
         },
         "name": "Next Profit Payment",
         "orientation": "h",
         "text": [
          "",
          "",
          "",
          "",
          "",
          "",
          "",
          "",
          "",
          "",
          "",
          "",
          "",
          "",
          "",
          "",
          "",
          ""
         ],
         "type": "bar",
         "width": 0.75,
         "x": [
          0,
          0,
          0,
          0,
          0,
          0,
          0,
          0,
          0,
          0,
          0,
          0,
          0,
          0,
          0,
          0,
          0,
          0
         ],
         "y": [
          "1005351 BC LTD. O/A Liberty Tax Service",
          "631343 alberta ltd",
          "Social Theorem Consulting Inc",
          "IT MULTISERVICES MG&CG INC.",
          "Nitin Chauhan Medicine Professional Corporation",
          "Jenco Canada Inc.",
          "Rossco's Tree Service and contracting Ltd.",
          "NuEnergy Systems Inc.",
          "SCG Sign City Group Inc",
          "Snakes & Lattes Inc.",
          "The Extensionist Consultancy Inc",
          "Vera's Burger Shack Inc.",
          "5686645 Manitoba LTD.",
          "Anthony C. C. Chan Inc",
          "J.K. ENGINEERING LTD",
          "Nice and Smooth Ultramedia Inc.",
          "Bronze Baxx Tanning Studio Inc.",
          "Brightpath Capital Corporation"
         ]
        },
        {
         "hoverinfo": "text",
         "legendgroup": "Profits",
         "marker": {
          "color": "#d7f1c1",
          "line": {
           "width": 0
          }
         },
         "name": "Profits Outstanding",
         "orientation": "h",
         "text": [
          "$2.99",
          "$2.83",
          "$4.06",
          "$2.22",
          "$2.66",
          "$1.38",
          "$18.83",
          "$5.51",
          "$6.98",
          "$6.98",
          "$7.8",
          "$7.8",
          "$10.69",
          "$4.59",
          "$8.21",
          "$4.64",
          "$4.59",
          "$9.44"
         ],
         "type": "bar",
         "width": 0.75,
         "x": [
          2.99,
          2.83,
          4.06,
          2.22,
          2.66,
          1.38,
          18.83,
          5.51,
          6.98,
          6.98,
          7.8,
          7.8,
          10.69,
          4.59,
          8.21,
          4.64,
          4.59,
          9.44
         ],
         "y": [
          "1005351 BC LTD. O/A Liberty Tax Service",
          "631343 alberta ltd",
          "Social Theorem Consulting Inc",
          "IT MULTISERVICES MG&CG INC.",
          "Nitin Chauhan Medicine Professional Corporation",
          "Jenco Canada Inc.",
          "Rossco's Tree Service and contracting Ltd.",
          "NuEnergy Systems Inc.",
          "SCG Sign City Group Inc",
          "Snakes & Lattes Inc.",
          "The Extensionist Consultancy Inc",
          "Vera's Burger Shack Inc.",
          "5686645 Manitoba LTD.",
          "Anthony C. C. Chan Inc",
          "J.K. ENGINEERING LTD",
          "Nice and Smooth Ultramedia Inc.",
          "Bronze Baxx Tanning Studio Inc.",
          "Brightpath Capital Corporation"
         ]
        }
       ],
       "layout": {
        "annotations": [
         {
          "font": {
           "color": "rgb(255, 255, 255)",
           "family": "Arial",
           "size": 14
          },
          "showarrow": false,
          "text": 40,
          "x": 23,
          "y": "1005351 BC LTD. O/A Liberty Tax Service"
         },
         {
          "font": {
           "color": "rgb(255, 255, 255)",
           "family": "Arial",
           "size": 14
          },
          "showarrow": false,
          "text": 30,
          "x": 23,
          "y": "631343 alberta ltd"
         },
         {
          "font": {
           "color": "rgb(255, 255, 255)",
           "family": "Arial",
           "size": 14
          },
          "showarrow": false,
          "text": 28,
          "x": 23,
          "y": "Social Theorem Consulting Inc"
         },
         {
          "font": {
           "color": "rgb(255, 255, 255)",
           "family": "Arial",
           "size": 14
          },
          "showarrow": false,
          "text": 21,
          "x": 23,
          "y": "IT MULTISERVICES MG&CG INC."
         },
         {
          "font": {
           "color": "rgb(255, 255, 255)",
           "family": "Arial",
           "size": 14
          },
          "showarrow": false,
          "text": 23,
          "x": 48,
          "y": "Nitin Chauhan Medicine Professional Corporation"
         },
         {
          "font": {
           "color": "rgb(255, 255, 255)",
           "family": "Arial",
           "size": 14
          },
          "showarrow": false,
          "text": 12,
          "x": 48,
          "y": "Jenco Canada Inc."
         },
         {
          "font": {
           "color": "rgb(255, 255, 255)",
           "family": "Arial",
           "size": 14
          },
          "showarrow": false,
          "text": 41,
          "x": 73,
          "y": "Rossco's Tree Service and contracting Ltd."
         },
         {
          "font": {
           "color": "rgb(255, 255, 255)",
           "family": "Arial",
           "size": 14
          },
          "showarrow": false,
          "text": 33,
          "x": 73,
          "y": "NuEnergy Systems Inc."
         },
         {
          "font": {
           "color": "rgb(255, 255, 255)",
           "family": "Arial",
           "size": 14
          },
          "showarrow": false,
          "text": 31,
          "x": 73,
          "y": "SCG Sign City Group Inc"
         },
         {
          "font": {
           "color": "rgb(255, 255, 255)",
           "family": "Arial",
           "size": 14
          },
          "showarrow": false,
          "text": 31,
          "x": 73,
          "y": "Snakes & Lattes Inc."
         },
         {
          "font": {
           "color": "rgb(255, 255, 255)",
           "family": "Arial",
           "size": 14
          },
          "showarrow": false,
          "text": 31,
          "x": 73,
          "y": "The Extensionist Consultancy Inc"
         },
         {
          "font": {
           "color": "rgb(255, 255, 255)",
           "family": "Arial",
           "size": 14
          },
          "showarrow": false,
          "text": 31,
          "x": 73,
          "y": "Vera's Burger Shack Inc."
         },
         {
          "font": {
           "color": "rgb(255, 255, 255)",
           "family": "Arial",
           "size": 14
          },
          "showarrow": false,
          "text": 29,
          "x": 73,
          "y": "5686645 Manitoba LTD."
         },
         {
          "font": {
           "color": "rgb(255, 255, 255)",
           "family": "Arial",
           "size": 14
          },
          "showarrow": false,
          "text": 22,
          "x": 73,
          "y": "Anthony C. C. Chan Inc"
         },
         {
          "font": {
           "color": "rgb(255, 255, 255)",
           "family": "Arial",
           "size": 14
          },
          "showarrow": false,
          "text": 32,
          "x": 98,
          "y": "J.K. ENGINEERING LTD"
         },
         {
          "font": {
           "color": "rgb(255, 255, 255)",
           "family": "Arial",
           "size": 14
          },
          "showarrow": false,
          "text": 15,
          "x": 48,
          "y": "Nice and Smooth Ultramedia Inc."
         },
         {
          "font": {
           "color": "rgb(255, 255, 255)",
           "family": "Arial",
           "size": 14
          },
          "showarrow": false,
          "text": 21,
          "x": 73,
          "y": "Bronze Baxx Tanning Studio Inc."
         },
         {
          "font": {
           "color": "rgb(255, 255, 255)",
           "family": "Arial",
           "size": 14
          },
          "showarrow": false,
          "text": 40,
          "x": 73,
          "y": "Brightpath Capital Corporation"
         }
        ],
        "barmode": "stack",
        "height": 820,
        "legend": {
         "orientation": "h",
         "traceorder": "grouped"
        },
        "xaxis": {
         "domain": [
          0.2,
          1
         ],
         "tickprefix": "$"
        }
       }
      },
      "text/html": [
       "<div id=\"462cce23-df56-4ba4-b815-be401991cc16\" style=\"height: 820px; width: 100%;\" class=\"plotly-graph-div\"></div><script type=\"text/javascript\">require([\"plotly\"], function(Plotly) { window.PLOTLYENV=window.PLOTLYENV || {};window.PLOTLYENV.BASE_URL=\"https://plot.ly\";Plotly.newPlot(\"462cce23-df56-4ba4-b815-be401991cc16\", [{\"legendgroup\": \"Fees\", \"orientation\": \"h\", \"text\": [\"\", \"\", \"\", \"\", \"\", \"\", \"\", \"\", \"\", \"\", \"\", \"\", \"\", \"\", \"\", \"$0.62\", \"$1.21\", \"$1.91\"], \"width\": 0.75, \"hoverinfo\": \"text\", \"y\": [\"1005351 BC LTD. O/A Liberty Tax Service\", \"631343 alberta ltd\", \"Social Theorem Consulting Inc\", \"IT MULTISERVICES MG&CG INC.\", \"Nitin Chauhan Medicine Professional Corporation\", \"Jenco Canada Inc.\", \"Rossco's Tree Service and contracting Ltd.\", \"NuEnergy Systems Inc.\", \"SCG Sign City Group Inc\", \"Snakes & Lattes Inc.\", \"The Extensionist Consultancy Inc\", \"Vera's Burger Shack Inc.\", \"5686645 Manitoba LTD.\", \"Anthony C. C. Chan Inc\", \"J.K. ENGINEERING LTD\", \"Nice and Smooth Ultramedia Inc.\", \"Bronze Baxx Tanning Studio Inc.\", \"Brightpath Capital Corporation\"], \"x\": [0.0, 0.0, 0.0, 0.0, 0.0, 0.0, 0.0, 0.0, 0.0, 0.0, 0.0, 0.0, 0.0, 0.0, 0.0, 0.62, 1.21, 1.91], \"type\": \"bar\", \"marker\": {\"color\": \"#585858\", \"line\": {\"width\": 0.0}}, \"name\": \"Fees Paid\"}, {\"legendgroup\": \"Fees\", \"orientation\": \"h\", \"text\": [\"$0.63\", \"$0.62\", \"$0.63\", \"$0.41\", \"$0.81\", \"$0.42\", \"$1.83\", \"$1.78\", \"$1.82\", \"$1.82\", \"$1.84\", \"$1.84\", \"$1.86\", \"$1.21\", \"$2.42\", \"\", \"\", \"$0.54\"], \"width\": 0.75, \"hoverinfo\": \"text\", \"y\": [\"1005351 BC LTD. O/A Liberty Tax Service\", \"631343 alberta ltd\", \"Social Theorem Consulting Inc\", \"IT MULTISERVICES MG&CG INC.\", \"Nitin Chauhan Medicine Professional Corporation\", \"Jenco Canada Inc.\", \"Rossco's Tree Service and contracting Ltd.\", \"NuEnergy Systems Inc.\", \"SCG Sign City Group Inc\", \"Snakes & Lattes Inc.\", \"The Extensionist Consultancy Inc\", \"Vera's Burger Shack Inc.\", \"5686645 Manitoba LTD.\", \"Anthony C. C. Chan Inc\", \"J.K. ENGINEERING LTD\", \"Nice and Smooth Ultramedia Inc.\", \"Bronze Baxx Tanning Studio Inc.\", \"Brightpath Capital Corporation\"], \"x\": [0.63, 0.62, 0.63, 0.41, 0.81, 0.42, 1.83, 1.78, 1.82, 1.82, 1.84, 1.84, 1.86, 1.21, 2.42, 0.0, 0.0, 0.54], \"type\": \"bar\", \"marker\": {\"color\": \"#848484\", \"line\": {\"width\": 0.0}}, \"name\": \"Next Fee Payment\"}, {\"legendgroup\": \"Fees\", \"orientation\": \"h\", \"text\": [\"$0.19\", \"\", \"\", \"\", \"\", \"\", \"$1.4\", \"\", \"\", \"\", \"\", \"\", \"\", \"\", \"\", \"\", \"\", \"\"], \"width\": 0.75, \"hoverinfo\": \"text\", \"y\": [\"1005351 BC LTD. O/A Liberty Tax Service\", \"631343 alberta ltd\", \"Social Theorem Consulting Inc\", \"IT MULTISERVICES MG&CG INC.\", \"Nitin Chauhan Medicine Professional Corporation\", \"Jenco Canada Inc.\", \"Rossco's Tree Service and contracting Ltd.\", \"NuEnergy Systems Inc.\", \"SCG Sign City Group Inc\", \"Snakes & Lattes Inc.\", \"The Extensionist Consultancy Inc\", \"Vera's Burger Shack Inc.\", \"5686645 Manitoba LTD.\", \"Anthony C. C. Chan Inc\", \"J.K. ENGINEERING LTD\", \"Nice and Smooth Ultramedia Inc.\", \"Bronze Baxx Tanning Studio Inc.\", \"Brightpath Capital Corporation\"], \"x\": [0.19, 0.0, 0.0, 0.0, 0.0, 0.0, 1.4, 0.0, 0.0, 0.0, 0.0, 0.0, 0.0, 0.0, 0.0, 0.0, 0.0, 0.0], \"type\": \"bar\", \"marker\": {\"color\": \"#BDBDBD\", \"line\": {\"width\": 0.0}}, \"name\": \"Fees Outstanding\"}, {\"legendgroup\": \"Principal\", \"orientation\": \"h\", \"text\": [\"\", \"\", \"\", \"\", \"\", \"\", \"\", \"\", \"\", \"\", \"\", \"\", \"\", \"\", \"\", \"$2.63\", \"$2.26\", \"\"], \"width\": 0.75, \"hoverinfo\": \"text\", \"y\": [\"1005351 BC LTD. O/A Liberty Tax Service\", \"631343 alberta ltd\", \"Social Theorem Consulting Inc\", \"IT MULTISERVICES MG&CG INC.\", \"Nitin Chauhan Medicine Professional Corporation\", \"Jenco Canada Inc.\", \"Rossco's Tree Service and contracting Ltd.\", \"NuEnergy Systems Inc.\", \"SCG Sign City Group Inc\", \"Snakes & Lattes Inc.\", \"The Extensionist Consultancy Inc\", \"Vera's Burger Shack Inc.\", \"5686645 Manitoba LTD.\", \"Anthony C. C. Chan Inc\", \"J.K. ENGINEERING LTD\", \"Nice and Smooth Ultramedia Inc.\", \"Bronze Baxx Tanning Studio Inc.\", \"Brightpath Capital Corporation\"], \"x\": [0.0, 0.0, 0.0, 0.0, 0.0, 0.0, 0.0, 0.0, 0.0, 0.0, 0.0, 0.0, 0.0, 0.0, 0.0, 2.63, 2.26, 0.0], \"type\": \"bar\", \"marker\": {\"color\": \"#512361\", \"line\": {\"width\": 0.0}}, \"name\": \"Principal Received\"}, {\"legendgroup\": \"Principal\", \"orientation\": \"h\", \"text\": [\"\", \"$0.23\", \"$0.27\", \"$0.81\", \"$1.46\", \"$3.94\", \"\", \"$0.52\", \"$0.61\", \"$0.61\", \"$0.65\", \"$0.65\", \"$0.78\", \"$2.26\", \"$0.73\", \"$3.25\", \"$3.47\", \"$1.37\"], \"width\": 0.75, \"hoverinfo\": \"text\", \"y\": [\"1005351 BC LTD. O/A Liberty Tax Service\", \"631343 alberta ltd\", \"Social Theorem Consulting Inc\", \"IT MULTISERVICES MG&CG INC.\", \"Nitin Chauhan Medicine Professional Corporation\", \"Jenco Canada Inc.\", \"Rossco's Tree Service and contracting Ltd.\", \"NuEnergy Systems Inc.\", \"SCG Sign City Group Inc\", \"Snakes & Lattes Inc.\", \"The Extensionist Consultancy Inc\", \"Vera's Burger Shack Inc.\", \"5686645 Manitoba LTD.\", \"Anthony C. C. Chan Inc\", \"J.K. ENGINEERING LTD\", \"Nice and Smooth Ultramedia Inc.\", \"Bronze Baxx Tanning Studio Inc.\", \"Brightpath Capital Corporation\"], \"x\": [0.0, 0.23, 0.27, 0.81, 1.46, 3.94, 0.0, 0.52, 0.61, 0.61, 0.65, 0.65, 0.78, 2.26, 0.73, 3.25, 3.47, 1.37], \"type\": \"bar\", \"marker\": {\"color\": \"#9165AE\", \"line\": {\"width\": 0.0}}, \"name\": \"Next Principal Payment\"}, {\"legendgroup\": \"Principal\", \"orientation\": \"h\", \"text\": [\"$25.0\", \"$24.77\", \"$24.73\", \"$24.19\", \"$48.54\", \"$46.06\", \"$75.0\", \"$74.48\", \"$74.39\", \"$74.39\", \"$74.35\", \"$74.35\", \"$74.22\", \"$72.74\", \"$99.27\", \"$44.12\", \"$69.27\", \"$73.63\"], \"width\": 0.75, \"hoverinfo\": \"text\", \"y\": [\"1005351 BC LTD. O/A Liberty Tax Service\", \"631343 alberta ltd\", \"Social Theorem Consulting Inc\", \"IT MULTISERVICES MG&CG INC.\", \"Nitin Chauhan Medicine Professional Corporation\", \"Jenco Canada Inc.\", \"Rossco's Tree Service and contracting Ltd.\", \"NuEnergy Systems Inc.\", \"SCG Sign City Group Inc\", \"Snakes & Lattes Inc.\", \"The Extensionist Consultancy Inc\", \"Vera's Burger Shack Inc.\", \"5686645 Manitoba LTD.\", \"Anthony C. C. Chan Inc\", \"J.K. ENGINEERING LTD\", \"Nice and Smooth Ultramedia Inc.\", \"Bronze Baxx Tanning Studio Inc.\", \"Brightpath Capital Corporation\"], \"x\": [25.0, 24.77, 24.73, 24.19, 48.54, 46.06, 75.0, 74.48, 74.39, 74.39, 74.35, 74.35, 74.22, 72.74, 99.27, 44.12, 69.27, 73.63], \"type\": \"bar\", \"marker\": {\"color\": \"#C2B2C8\", \"line\": {\"width\": 0.0}}, \"name\": \"Principal Outstanding\"}, {\"legendgroup\": \"Bad Debt Funds\", \"orientation\": \"h\", \"text\": [\"\", \"\", \"\", \"\", \"\", \"\", \"\", \"\", \"\", \"\", \"\", \"\", \"\", \"\", \"\", \"\", \"\", \"\"], \"width\": 0.75, \"hoverinfo\": \"text\", \"y\": [\"1005351 BC LTD. O/A Liberty Tax Service\", \"631343 alberta ltd\", \"Social Theorem Consulting Inc\", \"IT MULTISERVICES MG&CG INC.\", \"Nitin Chauhan Medicine Professional Corporation\", \"Jenco Canada Inc.\", \"Rossco's Tree Service and contracting Ltd.\", \"NuEnergy Systems Inc.\", \"SCG Sign City Group Inc\", \"Snakes & Lattes Inc.\", \"The Extensionist Consultancy Inc\", \"Vera's Burger Shack Inc.\", \"5686645 Manitoba LTD.\", \"Anthony C. C. Chan Inc\", \"J.K. ENGINEERING LTD\", \"Nice and Smooth Ultramedia Inc.\", \"Bronze Baxx Tanning Studio Inc.\", \"Brightpath Capital Corporation\"], \"x\": [0.0, 0.0, 0.0, 0.0, 0.0, 0.0, 0.0, 0.0, 0.0, 0.0, 0.0, 0.0, 0.0, 0.0, 0.0, 0.0, 0.0, 0.0], \"type\": \"bar\", \"marker\": {\"color\": \"#FF8000\", \"line\": {\"width\": 0.0}}, \"name\": \"Bad Debt Funds Received\"}, {\"legendgroup\": \"Bad Debt Funds\", \"orientation\": \"h\", \"text\": [\"\", \"\", \"\", \"\", \"\", \"\", \"\", \"\", \"\", \"\", \"\", \"\", \"\", \"\", \"\", \"\", \"\", \"\"], \"width\": 0.75, \"hoverinfo\": \"text\", \"y\": [\"1005351 BC LTD. O/A Liberty Tax Service\", \"631343 alberta ltd\", \"Social Theorem Consulting Inc\", \"IT MULTISERVICES MG&CG INC.\", \"Nitin Chauhan Medicine Professional Corporation\", \"Jenco Canada Inc.\", \"Rossco's Tree Service and contracting Ltd.\", \"NuEnergy Systems Inc.\", \"SCG Sign City Group Inc\", \"Snakes & Lattes Inc.\", \"The Extensionist Consultancy Inc\", \"Vera's Burger Shack Inc.\", \"5686645 Manitoba LTD.\", \"Anthony C. C. Chan Inc\", \"J.K. ENGINEERING LTD\", \"Nice and Smooth Ultramedia Inc.\", \"Bronze Baxx Tanning Studio Inc.\", \"Brightpath Capital Corporation\"], \"x\": [0.0, 0.0, 0.0, 0.0, 0.0, 0.0, 0.0, 0.0, 0.0, 0.0, 0.0, 0.0, 0.0, 0.0, 0.0, 0.0, 0.0, 0.0], \"type\": \"bar\", \"marker\": {\"color\": \"#FAAC58\", \"line\": {\"width\": 0.0}}, \"name\": \"Next Bad Debt Funds Payment\"}, {\"legendgroup\": \"Bad Debt Funds\", \"orientation\": \"h\", \"text\": [\"$1.59\", \"$2.16\", \"$2.83\", \"$1.66\", \"$0.96\", \"$0.5\", \"$12.52\", \"$0.65\", \"$3.58\", \"$3.58\", \"$5.1\", \"$5.1\", \"$7.45\", \"$2.41\", \"$2.85\", \"$3.23\", \"$2.41\", \"$4.76\"], \"width\": 0.75, \"hoverinfo\": \"text\", \"y\": [\"1005351 BC LTD. O/A Liberty Tax Service\", \"631343 alberta ltd\", \"Social Theorem Consulting Inc\", \"IT MULTISERVICES MG&CG INC.\", \"Nitin Chauhan Medicine Professional Corporation\", \"Jenco Canada Inc.\", \"Rossco's Tree Service and contracting Ltd.\", \"NuEnergy Systems Inc.\", \"SCG Sign City Group Inc\", \"Snakes & Lattes Inc.\", \"The Extensionist Consultancy Inc\", \"Vera's Burger Shack Inc.\", \"5686645 Manitoba LTD.\", \"Anthony C. C. Chan Inc\", \"J.K. ENGINEERING LTD\", \"Nice and Smooth Ultramedia Inc.\", \"Bronze Baxx Tanning Studio Inc.\", \"Brightpath Capital Corporation\"], \"x\": [1.59, 2.16, 2.83, 1.66, 0.96, 0.5, 12.52, 0.65, 3.58, 3.58, 5.1, 5.1, 7.45, 2.41, 2.85, 3.23, 2.41, 4.76], \"type\": \"bar\", \"marker\": {\"color\": \"#F5D0A9\", \"line\": {\"width\": 0.0}}, \"name\": \"Bad Debt Funds Outstanding\"}, {\"legendgroup\": \"Profits\", \"orientation\": \"h\", \"text\": [\"\", \"\", \"\", \"\", \"\", \"\", \"\", \"\", \"\", \"\", \"\", \"\", \"\", \"\", \"\", \"\", \"\", \"\"], \"width\": 0.75, \"hoverinfo\": \"text\", \"y\": [\"1005351 BC LTD. O/A Liberty Tax Service\", \"631343 alberta ltd\", \"Social Theorem Consulting Inc\", \"IT MULTISERVICES MG&CG INC.\", \"Nitin Chauhan Medicine Professional Corporation\", \"Jenco Canada Inc.\", \"Rossco's Tree Service and contracting Ltd.\", \"NuEnergy Systems Inc.\", \"SCG Sign City Group Inc\", \"Snakes & Lattes Inc.\", \"The Extensionist Consultancy Inc\", \"Vera's Burger Shack Inc.\", \"5686645 Manitoba LTD.\", \"Anthony C. C. Chan Inc\", \"J.K. ENGINEERING LTD\", \"Nice and Smooth Ultramedia Inc.\", \"Bronze Baxx Tanning Studio Inc.\", \"Brightpath Capital Corporation\"], \"x\": [0.0, 0.0, 0.0, 0.0, 0.0, 0.0, 0.0, 0.0, 0.0, 0.0, 0.0, 0.0, 0.0, 0.0, 0.0, 0.0, 0.0, 0.0], \"type\": \"bar\", \"marker\": {\"color\": \"#72C02C\", \"line\": {\"width\": 0.0}}, \"name\": \"Profits Received\"}, {\"legendgroup\": \"Profits\", \"orientation\": \"h\", \"text\": [\"\", \"\", \"\", \"\", \"\", \"\", \"\", \"\", \"\", \"\", \"\", \"\", \"\", \"\", \"\", \"\", \"\", \"\"], \"width\": 0.75, \"hoverinfo\": \"text\", \"y\": [\"1005351 BC LTD. O/A Liberty Tax Service\", \"631343 alberta ltd\", \"Social Theorem Consulting Inc\", \"IT MULTISERVICES MG&CG INC.\", \"Nitin Chauhan Medicine Professional Corporation\", \"Jenco Canada Inc.\", \"Rossco's Tree Service and contracting Ltd.\", \"NuEnergy Systems Inc.\", \"SCG Sign City Group Inc\", \"Snakes & Lattes Inc.\", \"The Extensionist Consultancy Inc\", \"Vera's Burger Shack Inc.\", \"5686645 Manitoba LTD.\", \"Anthony C. C. Chan Inc\", \"J.K. ENGINEERING LTD\", \"Nice and Smooth Ultramedia Inc.\", \"Bronze Baxx Tanning Studio Inc.\", \"Brightpath Capital Corporation\"], \"x\": [0.0, 0.0, 0.0, 0.0, 0.0, 0.0, 0.0, 0.0, 0.0, 0.0, 0.0, 0.0, 0.0, 0.0, 0.0, 0.0, 0.0, 0.0], \"type\": \"bar\", \"marker\": {\"color\": \"#a2de6e\", \"line\": {\"width\": 0.0}}, \"name\": \"Next Profit Payment\"}, {\"legendgroup\": \"Profits\", \"orientation\": \"h\", \"text\": [\"$2.99\", \"$2.83\", \"$4.06\", \"$2.22\", \"$2.66\", \"$1.38\", \"$18.83\", \"$5.51\", \"$6.98\", \"$6.98\", \"$7.8\", \"$7.8\", \"$10.69\", \"$4.59\", \"$8.21\", \"$4.64\", \"$4.59\", \"$9.44\"], \"width\": 0.75, \"hoverinfo\": \"text\", \"y\": [\"1005351 BC LTD. O/A Liberty Tax Service\", \"631343 alberta ltd\", \"Social Theorem Consulting Inc\", \"IT MULTISERVICES MG&CG INC.\", \"Nitin Chauhan Medicine Professional Corporation\", \"Jenco Canada Inc.\", \"Rossco's Tree Service and contracting Ltd.\", \"NuEnergy Systems Inc.\", \"SCG Sign City Group Inc\", \"Snakes & Lattes Inc.\", \"The Extensionist Consultancy Inc\", \"Vera's Burger Shack Inc.\", \"5686645 Manitoba LTD.\", \"Anthony C. C. Chan Inc\", \"J.K. ENGINEERING LTD\", \"Nice and Smooth Ultramedia Inc.\", \"Bronze Baxx Tanning Studio Inc.\", \"Brightpath Capital Corporation\"], \"x\": [2.99, 2.83, 4.06, 2.22, 2.66, 1.38, 18.83, 5.51, 6.98, 6.98, 7.8, 7.8, 10.69, 4.59, 8.21, 4.64, 4.59, 9.44], \"type\": \"bar\", \"marker\": {\"color\": \"#d7f1c1\", \"line\": {\"width\": 0.0}}, \"name\": \"Profits Outstanding\"}], {\"barmode\": \"stack\", \"height\": 820, \"annotations\": [{\"y\": \"1005351 BC LTD. O/A Liberty Tax Service\", \"text\": 40, \"font\": {\"color\": \"rgb(255, 255, 255)\", \"family\": \"Arial\", \"size\": 14}, \"x\": 23.0, \"showarrow\": false}, {\"y\": \"631343 alberta ltd\", \"text\": 30, \"font\": {\"color\": \"rgb(255, 255, 255)\", \"family\": \"Arial\", \"size\": 14}, \"x\": 23.0, \"showarrow\": false}, {\"y\": \"Social Theorem Consulting Inc\", \"text\": 28, \"font\": {\"color\": \"rgb(255, 255, 255)\", \"family\": \"Arial\", \"size\": 14}, \"x\": 23.0, \"showarrow\": false}, {\"y\": \"IT MULTISERVICES MG&CG INC.\", \"text\": 21, \"font\": {\"color\": \"rgb(255, 255, 255)\", \"family\": \"Arial\", \"size\": 14}, \"x\": 23.0, \"showarrow\": false}, {\"y\": \"Nitin Chauhan Medicine Professional Corporation\", \"text\": 23, \"font\": {\"color\": \"rgb(255, 255, 255)\", \"family\": \"Arial\", \"size\": 14}, \"x\": 48.0, \"showarrow\": false}, {\"y\": \"Jenco Canada Inc.\", \"text\": 12, \"font\": {\"color\": \"rgb(255, 255, 255)\", \"family\": \"Arial\", \"size\": 14}, \"x\": 48.0, \"showarrow\": false}, {\"y\": \"Rossco's Tree Service and contracting Ltd.\", \"text\": 41, \"font\": {\"color\": \"rgb(255, 255, 255)\", \"family\": \"Arial\", \"size\": 14}, \"x\": 73.0, \"showarrow\": false}, {\"y\": \"NuEnergy Systems Inc.\", \"text\": 33, \"font\": {\"color\": \"rgb(255, 255, 255)\", \"family\": \"Arial\", \"size\": 14}, \"x\": 73.0, \"showarrow\": false}, {\"y\": \"SCG Sign City Group Inc\", \"text\": 31, \"font\": {\"color\": \"rgb(255, 255, 255)\", \"family\": \"Arial\", \"size\": 14}, \"x\": 73.0, \"showarrow\": false}, {\"y\": \"Snakes & Lattes Inc.\", \"text\": 31, \"font\": {\"color\": \"rgb(255, 255, 255)\", \"family\": \"Arial\", \"size\": 14}, \"x\": 73.0, \"showarrow\": false}, {\"y\": \"The Extensionist Consultancy Inc\", \"text\": 31, \"font\": {\"color\": \"rgb(255, 255, 255)\", \"family\": \"Arial\", \"size\": 14}, \"x\": 73.0, \"showarrow\": false}, {\"y\": \"Vera's Burger Shack Inc.\", \"text\": 31, \"font\": {\"color\": \"rgb(255, 255, 255)\", \"family\": \"Arial\", \"size\": 14}, \"x\": 73.0, \"showarrow\": false}, {\"y\": \"5686645 Manitoba LTD.\", \"text\": 29, \"font\": {\"color\": \"rgb(255, 255, 255)\", \"family\": \"Arial\", \"size\": 14}, \"x\": 73.0, \"showarrow\": false}, {\"y\": \"Anthony C. C. Chan Inc\", \"text\": 22, \"font\": {\"color\": \"rgb(255, 255, 255)\", \"family\": \"Arial\", \"size\": 14}, \"x\": 73.0, \"showarrow\": false}, {\"y\": \"J.K. ENGINEERING LTD\", \"text\": 32, \"font\": {\"color\": \"rgb(255, 255, 255)\", \"family\": \"Arial\", \"size\": 14}, \"x\": 98.0, \"showarrow\": false}, {\"y\": \"Nice and Smooth Ultramedia Inc.\", \"text\": 15, \"font\": {\"color\": \"rgb(255, 255, 255)\", \"family\": \"Arial\", \"size\": 14}, \"x\": 48.0, \"showarrow\": false}, {\"y\": \"Bronze Baxx Tanning Studio Inc.\", \"text\": 21, \"font\": {\"color\": \"rgb(255, 255, 255)\", \"family\": \"Arial\", \"size\": 14}, \"x\": 73.0, \"showarrow\": false}, {\"y\": \"Brightpath Capital Corporation\", \"text\": 40, \"font\": {\"color\": \"rgb(255, 255, 255)\", \"family\": \"Arial\", \"size\": 14}, \"x\": 73.0, \"showarrow\": false}], \"xaxis\": {\"tickprefix\": \"$\", \"domain\": [0.2, 1]}, \"legend\": {\"traceorder\": \"grouped\", \"orientation\": \"h\"}}, {\"linkText\": \"Export to plot.ly\", \"showLink\": true})});</script>"
      ],
      "text/vnd.plotly.v1+html": [
       "<div id=\"462cce23-df56-4ba4-b815-be401991cc16\" style=\"height: 820px; width: 100%;\" class=\"plotly-graph-div\"></div><script type=\"text/javascript\">require([\"plotly\"], function(Plotly) { window.PLOTLYENV=window.PLOTLYENV || {};window.PLOTLYENV.BASE_URL=\"https://plot.ly\";Plotly.newPlot(\"462cce23-df56-4ba4-b815-be401991cc16\", [{\"legendgroup\": \"Fees\", \"orientation\": \"h\", \"text\": [\"\", \"\", \"\", \"\", \"\", \"\", \"\", \"\", \"\", \"\", \"\", \"\", \"\", \"\", \"\", \"$0.62\", \"$1.21\", \"$1.91\"], \"width\": 0.75, \"hoverinfo\": \"text\", \"y\": [\"1005351 BC LTD. O/A Liberty Tax Service\", \"631343 alberta ltd\", \"Social Theorem Consulting Inc\", \"IT MULTISERVICES MG&CG INC.\", \"Nitin Chauhan Medicine Professional Corporation\", \"Jenco Canada Inc.\", \"Rossco's Tree Service and contracting Ltd.\", \"NuEnergy Systems Inc.\", \"SCG Sign City Group Inc\", \"Snakes & Lattes Inc.\", \"The Extensionist Consultancy Inc\", \"Vera's Burger Shack Inc.\", \"5686645 Manitoba LTD.\", \"Anthony C. C. Chan Inc\", \"J.K. ENGINEERING LTD\", \"Nice and Smooth Ultramedia Inc.\", \"Bronze Baxx Tanning Studio Inc.\", \"Brightpath Capital Corporation\"], \"x\": [0.0, 0.0, 0.0, 0.0, 0.0, 0.0, 0.0, 0.0, 0.0, 0.0, 0.0, 0.0, 0.0, 0.0, 0.0, 0.62, 1.21, 1.91], \"type\": \"bar\", \"marker\": {\"color\": \"#585858\", \"line\": {\"width\": 0.0}}, \"name\": \"Fees Paid\"}, {\"legendgroup\": \"Fees\", \"orientation\": \"h\", \"text\": [\"$0.63\", \"$0.62\", \"$0.63\", \"$0.41\", \"$0.81\", \"$0.42\", \"$1.83\", \"$1.78\", \"$1.82\", \"$1.82\", \"$1.84\", \"$1.84\", \"$1.86\", \"$1.21\", \"$2.42\", \"\", \"\", \"$0.54\"], \"width\": 0.75, \"hoverinfo\": \"text\", \"y\": [\"1005351 BC LTD. O/A Liberty Tax Service\", \"631343 alberta ltd\", \"Social Theorem Consulting Inc\", \"IT MULTISERVICES MG&CG INC.\", \"Nitin Chauhan Medicine Professional Corporation\", \"Jenco Canada Inc.\", \"Rossco's Tree Service and contracting Ltd.\", \"NuEnergy Systems Inc.\", \"SCG Sign City Group Inc\", \"Snakes & Lattes Inc.\", \"The Extensionist Consultancy Inc\", \"Vera's Burger Shack Inc.\", \"5686645 Manitoba LTD.\", \"Anthony C. C. Chan Inc\", \"J.K. ENGINEERING LTD\", \"Nice and Smooth Ultramedia Inc.\", \"Bronze Baxx Tanning Studio Inc.\", \"Brightpath Capital Corporation\"], \"x\": [0.63, 0.62, 0.63, 0.41, 0.81, 0.42, 1.83, 1.78, 1.82, 1.82, 1.84, 1.84, 1.86, 1.21, 2.42, 0.0, 0.0, 0.54], \"type\": \"bar\", \"marker\": {\"color\": \"#848484\", \"line\": {\"width\": 0.0}}, \"name\": \"Next Fee Payment\"}, {\"legendgroup\": \"Fees\", \"orientation\": \"h\", \"text\": [\"$0.19\", \"\", \"\", \"\", \"\", \"\", \"$1.4\", \"\", \"\", \"\", \"\", \"\", \"\", \"\", \"\", \"\", \"\", \"\"], \"width\": 0.75, \"hoverinfo\": \"text\", \"y\": [\"1005351 BC LTD. O/A Liberty Tax Service\", \"631343 alberta ltd\", \"Social Theorem Consulting Inc\", \"IT MULTISERVICES MG&CG INC.\", \"Nitin Chauhan Medicine Professional Corporation\", \"Jenco Canada Inc.\", \"Rossco's Tree Service and contracting Ltd.\", \"NuEnergy Systems Inc.\", \"SCG Sign City Group Inc\", \"Snakes & Lattes Inc.\", \"The Extensionist Consultancy Inc\", \"Vera's Burger Shack Inc.\", \"5686645 Manitoba LTD.\", \"Anthony C. C. Chan Inc\", \"J.K. ENGINEERING LTD\", \"Nice and Smooth Ultramedia Inc.\", \"Bronze Baxx Tanning Studio Inc.\", \"Brightpath Capital Corporation\"], \"x\": [0.19, 0.0, 0.0, 0.0, 0.0, 0.0, 1.4, 0.0, 0.0, 0.0, 0.0, 0.0, 0.0, 0.0, 0.0, 0.0, 0.0, 0.0], \"type\": \"bar\", \"marker\": {\"color\": \"#BDBDBD\", \"line\": {\"width\": 0.0}}, \"name\": \"Fees Outstanding\"}, {\"legendgroup\": \"Principal\", \"orientation\": \"h\", \"text\": [\"\", \"\", \"\", \"\", \"\", \"\", \"\", \"\", \"\", \"\", \"\", \"\", \"\", \"\", \"\", \"$2.63\", \"$2.26\", \"\"], \"width\": 0.75, \"hoverinfo\": \"text\", \"y\": [\"1005351 BC LTD. O/A Liberty Tax Service\", \"631343 alberta ltd\", \"Social Theorem Consulting Inc\", \"IT MULTISERVICES MG&CG INC.\", \"Nitin Chauhan Medicine Professional Corporation\", \"Jenco Canada Inc.\", \"Rossco's Tree Service and contracting Ltd.\", \"NuEnergy Systems Inc.\", \"SCG Sign City Group Inc\", \"Snakes & Lattes Inc.\", \"The Extensionist Consultancy Inc\", \"Vera's Burger Shack Inc.\", \"5686645 Manitoba LTD.\", \"Anthony C. C. Chan Inc\", \"J.K. ENGINEERING LTD\", \"Nice and Smooth Ultramedia Inc.\", \"Bronze Baxx Tanning Studio Inc.\", \"Brightpath Capital Corporation\"], \"x\": [0.0, 0.0, 0.0, 0.0, 0.0, 0.0, 0.0, 0.0, 0.0, 0.0, 0.0, 0.0, 0.0, 0.0, 0.0, 2.63, 2.26, 0.0], \"type\": \"bar\", \"marker\": {\"color\": \"#512361\", \"line\": {\"width\": 0.0}}, \"name\": \"Principal Received\"}, {\"legendgroup\": \"Principal\", \"orientation\": \"h\", \"text\": [\"\", \"$0.23\", \"$0.27\", \"$0.81\", \"$1.46\", \"$3.94\", \"\", \"$0.52\", \"$0.61\", \"$0.61\", \"$0.65\", \"$0.65\", \"$0.78\", \"$2.26\", \"$0.73\", \"$3.25\", \"$3.47\", \"$1.37\"], \"width\": 0.75, \"hoverinfo\": \"text\", \"y\": [\"1005351 BC LTD. O/A Liberty Tax Service\", \"631343 alberta ltd\", \"Social Theorem Consulting Inc\", \"IT MULTISERVICES MG&CG INC.\", \"Nitin Chauhan Medicine Professional Corporation\", \"Jenco Canada Inc.\", \"Rossco's Tree Service and contracting Ltd.\", \"NuEnergy Systems Inc.\", \"SCG Sign City Group Inc\", \"Snakes & Lattes Inc.\", \"The Extensionist Consultancy Inc\", \"Vera's Burger Shack Inc.\", \"5686645 Manitoba LTD.\", \"Anthony C. C. Chan Inc\", \"J.K. ENGINEERING LTD\", \"Nice and Smooth Ultramedia Inc.\", \"Bronze Baxx Tanning Studio Inc.\", \"Brightpath Capital Corporation\"], \"x\": [0.0, 0.23, 0.27, 0.81, 1.46, 3.94, 0.0, 0.52, 0.61, 0.61, 0.65, 0.65, 0.78, 2.26, 0.73, 3.25, 3.47, 1.37], \"type\": \"bar\", \"marker\": {\"color\": \"#9165AE\", \"line\": {\"width\": 0.0}}, \"name\": \"Next Principal Payment\"}, {\"legendgroup\": \"Principal\", \"orientation\": \"h\", \"text\": [\"$25.0\", \"$24.77\", \"$24.73\", \"$24.19\", \"$48.54\", \"$46.06\", \"$75.0\", \"$74.48\", \"$74.39\", \"$74.39\", \"$74.35\", \"$74.35\", \"$74.22\", \"$72.74\", \"$99.27\", \"$44.12\", \"$69.27\", \"$73.63\"], \"width\": 0.75, \"hoverinfo\": \"text\", \"y\": [\"1005351 BC LTD. O/A Liberty Tax Service\", \"631343 alberta ltd\", \"Social Theorem Consulting Inc\", \"IT MULTISERVICES MG&CG INC.\", \"Nitin Chauhan Medicine Professional Corporation\", \"Jenco Canada Inc.\", \"Rossco's Tree Service and contracting Ltd.\", \"NuEnergy Systems Inc.\", \"SCG Sign City Group Inc\", \"Snakes & Lattes Inc.\", \"The Extensionist Consultancy Inc\", \"Vera's Burger Shack Inc.\", \"5686645 Manitoba LTD.\", \"Anthony C. C. Chan Inc\", \"J.K. ENGINEERING LTD\", \"Nice and Smooth Ultramedia Inc.\", \"Bronze Baxx Tanning Studio Inc.\", \"Brightpath Capital Corporation\"], \"x\": [25.0, 24.77, 24.73, 24.19, 48.54, 46.06, 75.0, 74.48, 74.39, 74.39, 74.35, 74.35, 74.22, 72.74, 99.27, 44.12, 69.27, 73.63], \"type\": \"bar\", \"marker\": {\"color\": \"#C2B2C8\", \"line\": {\"width\": 0.0}}, \"name\": \"Principal Outstanding\"}, {\"legendgroup\": \"Bad Debt Funds\", \"orientation\": \"h\", \"text\": [\"\", \"\", \"\", \"\", \"\", \"\", \"\", \"\", \"\", \"\", \"\", \"\", \"\", \"\", \"\", \"\", \"\", \"\"], \"width\": 0.75, \"hoverinfo\": \"text\", \"y\": [\"1005351 BC LTD. O/A Liberty Tax Service\", \"631343 alberta ltd\", \"Social Theorem Consulting Inc\", \"IT MULTISERVICES MG&CG INC.\", \"Nitin Chauhan Medicine Professional Corporation\", \"Jenco Canada Inc.\", \"Rossco's Tree Service and contracting Ltd.\", \"NuEnergy Systems Inc.\", \"SCG Sign City Group Inc\", \"Snakes & Lattes Inc.\", \"The Extensionist Consultancy Inc\", \"Vera's Burger Shack Inc.\", \"5686645 Manitoba LTD.\", \"Anthony C. C. Chan Inc\", \"J.K. ENGINEERING LTD\", \"Nice and Smooth Ultramedia Inc.\", \"Bronze Baxx Tanning Studio Inc.\", \"Brightpath Capital Corporation\"], \"x\": [0.0, 0.0, 0.0, 0.0, 0.0, 0.0, 0.0, 0.0, 0.0, 0.0, 0.0, 0.0, 0.0, 0.0, 0.0, 0.0, 0.0, 0.0], \"type\": \"bar\", \"marker\": {\"color\": \"#FF8000\", \"line\": {\"width\": 0.0}}, \"name\": \"Bad Debt Funds Received\"}, {\"legendgroup\": \"Bad Debt Funds\", \"orientation\": \"h\", \"text\": [\"\", \"\", \"\", \"\", \"\", \"\", \"\", \"\", \"\", \"\", \"\", \"\", \"\", \"\", \"\", \"\", \"\", \"\"], \"width\": 0.75, \"hoverinfo\": \"text\", \"y\": [\"1005351 BC LTD. O/A Liberty Tax Service\", \"631343 alberta ltd\", \"Social Theorem Consulting Inc\", \"IT MULTISERVICES MG&CG INC.\", \"Nitin Chauhan Medicine Professional Corporation\", \"Jenco Canada Inc.\", \"Rossco's Tree Service and contracting Ltd.\", \"NuEnergy Systems Inc.\", \"SCG Sign City Group Inc\", \"Snakes & Lattes Inc.\", \"The Extensionist Consultancy Inc\", \"Vera's Burger Shack Inc.\", \"5686645 Manitoba LTD.\", \"Anthony C. C. Chan Inc\", \"J.K. ENGINEERING LTD\", \"Nice and Smooth Ultramedia Inc.\", \"Bronze Baxx Tanning Studio Inc.\", \"Brightpath Capital Corporation\"], \"x\": [0.0, 0.0, 0.0, 0.0, 0.0, 0.0, 0.0, 0.0, 0.0, 0.0, 0.0, 0.0, 0.0, 0.0, 0.0, 0.0, 0.0, 0.0], \"type\": \"bar\", \"marker\": {\"color\": \"#FAAC58\", \"line\": {\"width\": 0.0}}, \"name\": \"Next Bad Debt Funds Payment\"}, {\"legendgroup\": \"Bad Debt Funds\", \"orientation\": \"h\", \"text\": [\"$1.59\", \"$2.16\", \"$2.83\", \"$1.66\", \"$0.96\", \"$0.5\", \"$12.52\", \"$0.65\", \"$3.58\", \"$3.58\", \"$5.1\", \"$5.1\", \"$7.45\", \"$2.41\", \"$2.85\", \"$3.23\", \"$2.41\", \"$4.76\"], \"width\": 0.75, \"hoverinfo\": \"text\", \"y\": [\"1005351 BC LTD. O/A Liberty Tax Service\", \"631343 alberta ltd\", \"Social Theorem Consulting Inc\", \"IT MULTISERVICES MG&CG INC.\", \"Nitin Chauhan Medicine Professional Corporation\", \"Jenco Canada Inc.\", \"Rossco's Tree Service and contracting Ltd.\", \"NuEnergy Systems Inc.\", \"SCG Sign City Group Inc\", \"Snakes & Lattes Inc.\", \"The Extensionist Consultancy Inc\", \"Vera's Burger Shack Inc.\", \"5686645 Manitoba LTD.\", \"Anthony C. C. Chan Inc\", \"J.K. ENGINEERING LTD\", \"Nice and Smooth Ultramedia Inc.\", \"Bronze Baxx Tanning Studio Inc.\", \"Brightpath Capital Corporation\"], \"x\": [1.59, 2.16, 2.83, 1.66, 0.96, 0.5, 12.52, 0.65, 3.58, 3.58, 5.1, 5.1, 7.45, 2.41, 2.85, 3.23, 2.41, 4.76], \"type\": \"bar\", \"marker\": {\"color\": \"#F5D0A9\", \"line\": {\"width\": 0.0}}, \"name\": \"Bad Debt Funds Outstanding\"}, {\"legendgroup\": \"Profits\", \"orientation\": \"h\", \"text\": [\"\", \"\", \"\", \"\", \"\", \"\", \"\", \"\", \"\", \"\", \"\", \"\", \"\", \"\", \"\", \"\", \"\", \"\"], \"width\": 0.75, \"hoverinfo\": \"text\", \"y\": [\"1005351 BC LTD. O/A Liberty Tax Service\", \"631343 alberta ltd\", \"Social Theorem Consulting Inc\", \"IT MULTISERVICES MG&CG INC.\", \"Nitin Chauhan Medicine Professional Corporation\", \"Jenco Canada Inc.\", \"Rossco's Tree Service and contracting Ltd.\", \"NuEnergy Systems Inc.\", \"SCG Sign City Group Inc\", \"Snakes & Lattes Inc.\", \"The Extensionist Consultancy Inc\", \"Vera's Burger Shack Inc.\", \"5686645 Manitoba LTD.\", \"Anthony C. C. Chan Inc\", \"J.K. ENGINEERING LTD\", \"Nice and Smooth Ultramedia Inc.\", \"Bronze Baxx Tanning Studio Inc.\", \"Brightpath Capital Corporation\"], \"x\": [0.0, 0.0, 0.0, 0.0, 0.0, 0.0, 0.0, 0.0, 0.0, 0.0, 0.0, 0.0, 0.0, 0.0, 0.0, 0.0, 0.0, 0.0], \"type\": \"bar\", \"marker\": {\"color\": \"#72C02C\", \"line\": {\"width\": 0.0}}, \"name\": \"Profits Received\"}, {\"legendgroup\": \"Profits\", \"orientation\": \"h\", \"text\": [\"\", \"\", \"\", \"\", \"\", \"\", \"\", \"\", \"\", \"\", \"\", \"\", \"\", \"\", \"\", \"\", \"\", \"\"], \"width\": 0.75, \"hoverinfo\": \"text\", \"y\": [\"1005351 BC LTD. O/A Liberty Tax Service\", \"631343 alberta ltd\", \"Social Theorem Consulting Inc\", \"IT MULTISERVICES MG&CG INC.\", \"Nitin Chauhan Medicine Professional Corporation\", \"Jenco Canada Inc.\", \"Rossco's Tree Service and contracting Ltd.\", \"NuEnergy Systems Inc.\", \"SCG Sign City Group Inc\", \"Snakes & Lattes Inc.\", \"The Extensionist Consultancy Inc\", \"Vera's Burger Shack Inc.\", \"5686645 Manitoba LTD.\", \"Anthony C. C. Chan Inc\", \"J.K. ENGINEERING LTD\", \"Nice and Smooth Ultramedia Inc.\", \"Bronze Baxx Tanning Studio Inc.\", \"Brightpath Capital Corporation\"], \"x\": [0.0, 0.0, 0.0, 0.0, 0.0, 0.0, 0.0, 0.0, 0.0, 0.0, 0.0, 0.0, 0.0, 0.0, 0.0, 0.0, 0.0, 0.0], \"type\": \"bar\", \"marker\": {\"color\": \"#a2de6e\", \"line\": {\"width\": 0.0}}, \"name\": \"Next Profit Payment\"}, {\"legendgroup\": \"Profits\", \"orientation\": \"h\", \"text\": [\"$2.99\", \"$2.83\", \"$4.06\", \"$2.22\", \"$2.66\", \"$1.38\", \"$18.83\", \"$5.51\", \"$6.98\", \"$6.98\", \"$7.8\", \"$7.8\", \"$10.69\", \"$4.59\", \"$8.21\", \"$4.64\", \"$4.59\", \"$9.44\"], \"width\": 0.75, \"hoverinfo\": \"text\", \"y\": [\"1005351 BC LTD. O/A Liberty Tax Service\", \"631343 alberta ltd\", \"Social Theorem Consulting Inc\", \"IT MULTISERVICES MG&CG INC.\", \"Nitin Chauhan Medicine Professional Corporation\", \"Jenco Canada Inc.\", \"Rossco's Tree Service and contracting Ltd.\", \"NuEnergy Systems Inc.\", \"SCG Sign City Group Inc\", \"Snakes & Lattes Inc.\", \"The Extensionist Consultancy Inc\", \"Vera's Burger Shack Inc.\", \"5686645 Manitoba LTD.\", \"Anthony C. C. Chan Inc\", \"J.K. ENGINEERING LTD\", \"Nice and Smooth Ultramedia Inc.\", \"Bronze Baxx Tanning Studio Inc.\", \"Brightpath Capital Corporation\"], \"x\": [2.99, 2.83, 4.06, 2.22, 2.66, 1.38, 18.83, 5.51, 6.98, 6.98, 7.8, 7.8, 10.69, 4.59, 8.21, 4.64, 4.59, 9.44], \"type\": \"bar\", \"marker\": {\"color\": \"#d7f1c1\", \"line\": {\"width\": 0.0}}, \"name\": \"Profits Outstanding\"}], {\"barmode\": \"stack\", \"height\": 820, \"annotations\": [{\"y\": \"1005351 BC LTD. O/A Liberty Tax Service\", \"text\": 40, \"font\": {\"color\": \"rgb(255, 255, 255)\", \"family\": \"Arial\", \"size\": 14}, \"x\": 23.0, \"showarrow\": false}, {\"y\": \"631343 alberta ltd\", \"text\": 30, \"font\": {\"color\": \"rgb(255, 255, 255)\", \"family\": \"Arial\", \"size\": 14}, \"x\": 23.0, \"showarrow\": false}, {\"y\": \"Social Theorem Consulting Inc\", \"text\": 28, \"font\": {\"color\": \"rgb(255, 255, 255)\", \"family\": \"Arial\", \"size\": 14}, \"x\": 23.0, \"showarrow\": false}, {\"y\": \"IT MULTISERVICES MG&CG INC.\", \"text\": 21, \"font\": {\"color\": \"rgb(255, 255, 255)\", \"family\": \"Arial\", \"size\": 14}, \"x\": 23.0, \"showarrow\": false}, {\"y\": \"Nitin Chauhan Medicine Professional Corporation\", \"text\": 23, \"font\": {\"color\": \"rgb(255, 255, 255)\", \"family\": \"Arial\", \"size\": 14}, \"x\": 48.0, \"showarrow\": false}, {\"y\": \"Jenco Canada Inc.\", \"text\": 12, \"font\": {\"color\": \"rgb(255, 255, 255)\", \"family\": \"Arial\", \"size\": 14}, \"x\": 48.0, \"showarrow\": false}, {\"y\": \"Rossco's Tree Service and contracting Ltd.\", \"text\": 41, \"font\": {\"color\": \"rgb(255, 255, 255)\", \"family\": \"Arial\", \"size\": 14}, \"x\": 73.0, \"showarrow\": false}, {\"y\": \"NuEnergy Systems Inc.\", \"text\": 33, \"font\": {\"color\": \"rgb(255, 255, 255)\", \"family\": \"Arial\", \"size\": 14}, \"x\": 73.0, \"showarrow\": false}, {\"y\": \"SCG Sign City Group Inc\", \"text\": 31, \"font\": {\"color\": \"rgb(255, 255, 255)\", \"family\": \"Arial\", \"size\": 14}, \"x\": 73.0, \"showarrow\": false}, {\"y\": \"Snakes & Lattes Inc.\", \"text\": 31, \"font\": {\"color\": \"rgb(255, 255, 255)\", \"family\": \"Arial\", \"size\": 14}, \"x\": 73.0, \"showarrow\": false}, {\"y\": \"The Extensionist Consultancy Inc\", \"text\": 31, \"font\": {\"color\": \"rgb(255, 255, 255)\", \"family\": \"Arial\", \"size\": 14}, \"x\": 73.0, \"showarrow\": false}, {\"y\": \"Vera's Burger Shack Inc.\", \"text\": 31, \"font\": {\"color\": \"rgb(255, 255, 255)\", \"family\": \"Arial\", \"size\": 14}, \"x\": 73.0, \"showarrow\": false}, {\"y\": \"5686645 Manitoba LTD.\", \"text\": 29, \"font\": {\"color\": \"rgb(255, 255, 255)\", \"family\": \"Arial\", \"size\": 14}, \"x\": 73.0, \"showarrow\": false}, {\"y\": \"Anthony C. C. Chan Inc\", \"text\": 22, \"font\": {\"color\": \"rgb(255, 255, 255)\", \"family\": \"Arial\", \"size\": 14}, \"x\": 73.0, \"showarrow\": false}, {\"y\": \"J.K. ENGINEERING LTD\", \"text\": 32, \"font\": {\"color\": \"rgb(255, 255, 255)\", \"family\": \"Arial\", \"size\": 14}, \"x\": 98.0, \"showarrow\": false}, {\"y\": \"Nice and Smooth Ultramedia Inc.\", \"text\": 15, \"font\": {\"color\": \"rgb(255, 255, 255)\", \"family\": \"Arial\", \"size\": 14}, \"x\": 48.0, \"showarrow\": false}, {\"y\": \"Bronze Baxx Tanning Studio Inc.\", \"text\": 21, \"font\": {\"color\": \"rgb(255, 255, 255)\", \"family\": \"Arial\", \"size\": 14}, \"x\": 73.0, \"showarrow\": false}, {\"y\": \"Brightpath Capital Corporation\", \"text\": 40, \"font\": {\"color\": \"rgb(255, 255, 255)\", \"family\": \"Arial\", \"size\": 14}, \"x\": 73.0, \"showarrow\": false}], \"xaxis\": {\"tickprefix\": \"$\", \"domain\": [0.2, 1]}, \"legend\": {\"traceorder\": \"grouped\", \"orientation\": \"h\"}}, {\"linkText\": \"Export to plot.ly\", \"showLink\": true})});</script>"
      ]
     },
     "metadata": {},
     "output_type": "display_data"
    }
   ],
   "source": [
    "progress_bar(notesDF)"
   ]
  },
  {
   "cell_type": "code",
   "execution_count": 105,
   "metadata": {},
   "outputs": [],
   "source": [
    "fundsDict = notesDF.groupBy('grade').agg(F.sum('principal')).rdd.collectAsMap()"
   ]
  },
  {
   "cell_type": "code",
   "execution_count": 106,
   "metadata": {},
   "outputs": [
    {
     "ename": "TypeError",
     "evalue": "'dict' object is not callable",
     "output_type": "error",
     "traceback": [
      "\u001b[0;31m---------------------------------------------------------------------------\u001b[0m",
      "\u001b[0;31mTypeError\u001b[0m                                 Traceback (most recent call last)",
      "\u001b[0;32m<ipython-input-106-4e11b03189eb>\u001b[0m in \u001b[0;36m<module>\u001b[0;34m()\u001b[0m\n\u001b[0;32m----> 1\u001b[0;31m \u001b[0mfundsDict\u001b[0m\u001b[0;34m(\u001b[0m\u001b[0;34m'A'\u001b[0m\u001b[0;34m)\u001b[0m\u001b[0;34m\u001b[0m\u001b[0m\n\u001b[0m",
      "\u001b[0;31mTypeError\u001b[0m: 'dict' object is not callable"
     ]
    }
   ],
   "source": [
    "fundsDict('A')"
   ]
  },
  {
   "cell_type": "code",
   "execution_count": 109,
   "metadata": {
    "code_folding": [
     0
    ]
   },
   "outputs": [
    {
     "data": {
      "application/vnd.plotly.v1+json": {
       "data": [
        {
         "marker": {
          "color": "#9165AE"
         },
         "r": [
          75,
          200,
          400,
          150,
          25,
          175,
          25,
          50,
          0,
          0
         ],
         "t": [
          "A+",
          "A",
          "B+",
          "B",
          "C+",
          "C",
          "D+",
          "D",
          "E+",
          "E"
         ],
         "type": "area"
        }
       ],
       "layout": {
        "angularaxis": {
         "showline": false,
         "showticklabels": false
        },
        "orientation": -90,
        "radialaxis": {
         "orientation": -90,
         "showline": false,
         "visible": false
        },
        "showlegend": false
       }
      },
      "text/html": [
       "<div id=\"3c9dfd6f-a56f-461f-b575-a34102289808\" style=\"height: 525px; width: 100%;\" class=\"plotly-graph-div\"></div><script type=\"text/javascript\">require([\"plotly\"], function(Plotly) { window.PLOTLYENV=window.PLOTLYENV || {};window.PLOTLYENV.BASE_URL=\"https://plot.ly\";Plotly.newPlot(\"3c9dfd6f-a56f-461f-b575-a34102289808\", [{\"marker\": {\"color\": \"#9165AE\"}, \"r\": [75.0, 200.0, 400.0, 150.0, 25.0, 175.0, 25.0, 50.0, 0, 0], \"type\": \"area\", \"t\": [\"A+\", \"A\", \"B+\", \"B\", \"C+\", \"C\", \"D+\", \"D\", \"E+\", \"E\"]}], {\"radialaxis\": {\"visible\": false, \"orientation\": -90, \"showline\": false}, \"showlegend\": false, \"angularaxis\": {\"showline\": false, \"showticklabels\": false}, \"orientation\": -90}, {\"linkText\": \"Export to plot.ly\", \"showLink\": true})});</script>"
      ],
      "text/vnd.plotly.v1+html": [
       "<div id=\"3c9dfd6f-a56f-461f-b575-a34102289808\" style=\"height: 525px; width: 100%;\" class=\"plotly-graph-div\"></div><script type=\"text/javascript\">require([\"plotly\"], function(Plotly) { window.PLOTLYENV=window.PLOTLYENV || {};window.PLOTLYENV.BASE_URL=\"https://plot.ly\";Plotly.newPlot(\"3c9dfd6f-a56f-461f-b575-a34102289808\", [{\"marker\": {\"color\": \"#9165AE\"}, \"r\": [75.0, 200.0, 400.0, 150.0, 25.0, 175.0, 25.0, 50.0, 0, 0], \"type\": \"area\", \"t\": [\"A+\", \"A\", \"B+\", \"B\", \"C+\", \"C\", \"D+\", \"D\", \"E+\", \"E\"]}], {\"radialaxis\": {\"visible\": false, \"orientation\": -90, \"showline\": false}, \"showlegend\": false, \"angularaxis\": {\"showline\": false, \"showticklabels\": false}, \"orientation\": -90}, {\"linkText\": \"Export to plot.ly\", \"showLink\": true})});</script>"
      ]
     },
     "metadata": {},
     "output_type": "display_data"
    }
   ],
   "source": [
    "def wind_rose(DF):\n",
    "    '''\n",
    "    Visualise principal invested in notes by grades.\n",
    "    '''\n",
    "    \n",
    "    grades = ['A+', 'A', 'B+', 'B', 'C+', 'C', 'D+', 'D', 'E+', 'E']\n",
    "    fundsDict = (DF\n",
    "                 .groupBy('grade')\n",
    "                 .agg(F.sum('principal'))\n",
    "                 .rdd\n",
    "                 .collectAsMap())\n",
    "    \n",
    "    trace = go.Area(\n",
    "        r = [fundsDict[grade] if grade in fundsDict.keys() else 0 for grade in grades],\n",
    "        t = grades,\n",
    "        marker = {'color': '#9165AE'},\n",
    "    )\n",
    "    \n",
    "    data = go.Data([trace])\n",
    "    \n",
    "    layout = go.Layout(\n",
    "        orientation = -90,\n",
    "        angularaxis = {\n",
    "            'showticklabels': False,\n",
    "            'showline': False,\n",
    "        },\n",
    "        radialaxis = {\n",
    "            'orientation': -90,\n",
    "            'visible': False,\n",
    "            'showline': False\n",
    "        },\n",
    "        showlegend = False,\n",
    "    )\n",
    "    \n",
    "    pyo.iplot(go.Figure(data=data, layout=layout))\n",
    "    \n",
    "wind_rose(notesDF)"
   ]
  },
  {
   "cell_type": "code",
   "execution_count": 114,
   "metadata": {
    "code_folding": [
     0
    ]
   },
   "outputs": [
    {
     "data": {
      "application/vnd.plotly.v1+json": {
       "data": [
        {
         "marker": {
          "color": "#9165AE"
         },
         "type": "bar",
         "x": [
          "A+",
          "A",
          "B+",
          "B",
          "C+",
          "C",
          "D+",
          "D",
          "E+",
          "E"
         ],
         "y": [
          75,
          200,
          400,
          150,
          25,
          175,
          25,
          50,
          0,
          0
         ]
        }
       ],
       "layout": {
        "yaxis": {
         "tickprefix": "$"
        }
       }
      },
      "text/html": [
       "<div id=\"04d77b3f-a0a3-4354-8b49-9685e8cd961a\" style=\"height: 525px; width: 100%;\" class=\"plotly-graph-div\"></div><script type=\"text/javascript\">require([\"plotly\"], function(Plotly) { window.PLOTLYENV=window.PLOTLYENV || {};window.PLOTLYENV.BASE_URL=\"https://plot.ly\";Plotly.newPlot(\"04d77b3f-a0a3-4354-8b49-9685e8cd961a\", [{\"marker\": {\"color\": \"#9165AE\"}, \"y\": [75.0, 200.0, 400.0, 150.0, 25.0, 175.0, 25.0, 50.0, 0, 0], \"type\": \"bar\", \"x\": [\"A+\", \"A\", \"B+\", \"B\", \"C+\", \"C\", \"D+\", \"D\", \"E+\", \"E\"]}], {\"yaxis\": {\"tickprefix\": \"$\"}}, {\"linkText\": \"Export to plot.ly\", \"showLink\": true})});</script>"
      ],
      "text/vnd.plotly.v1+html": [
       "<div id=\"04d77b3f-a0a3-4354-8b49-9685e8cd961a\" style=\"height: 525px; width: 100%;\" class=\"plotly-graph-div\"></div><script type=\"text/javascript\">require([\"plotly\"], function(Plotly) { window.PLOTLYENV=window.PLOTLYENV || {};window.PLOTLYENV.BASE_URL=\"https://plot.ly\";Plotly.newPlot(\"04d77b3f-a0a3-4354-8b49-9685e8cd961a\", [{\"marker\": {\"color\": \"#9165AE\"}, \"y\": [75.0, 200.0, 400.0, 150.0, 25.0, 175.0, 25.0, 50.0, 0, 0], \"type\": \"bar\", \"x\": [\"A+\", \"A\", \"B+\", \"B\", \"C+\", \"C\", \"D+\", \"D\", \"E+\", \"E\"]}], {\"yaxis\": {\"tickprefix\": \"$\"}}, {\"linkText\": \"Export to plot.ly\", \"showLink\": true})});</script>"
      ]
     },
     "metadata": {},
     "output_type": "display_data"
    }
   ],
   "source": [
    "def notes_distribution_bar_chart(DF):\n",
    "    '''\n",
    "    Plot a bar chart showing the fund distribution in each note grade.\n",
    "    '''\n",
    "    grades = ['A+', 'A', 'B+', 'B', 'C+', 'C', 'D+', 'D', 'E+', 'E']\n",
    "    fundsDict = (DF\n",
    "                 .groupBy('grade')\n",
    "                 .agg(F.sum('principal'))\n",
    "                 .rdd\n",
    "                 .collectAsMap())\n",
    "    \n",
    "    trace = go.Bar(\n",
    "        x = grades,\n",
    "        y = [fundsDict[grade] if grade in fundsDict.keys() else 0 for grade in grades],\n",
    "        marker = {'color': '#9165AE'},\n",
    "    )\n",
    "    \n",
    "    data = go.Data([trace])\n",
    "    \n",
    "    layout = go.Layout(\n",
    "        yaxis = {'tickprefix': '$'}\n",
    "    )\n",
    "    \n",
    "    pyo.iplot(go.Figure(data=data, layout=layout))\n",
    "\n",
    "notes_distribution_bar_chart(notesDF)"
   ]
  },
  {
   "cell_type": "code",
   "execution_count": 91,
   "metadata": {
    "scrolled": false
   },
   "outputs": [
    {
     "name": "stdout",
     "output_type": "stream",
     "text": [
      "Current path: []\n",
      "Current parent object_names: []\n",
      "\n",
      "With the current parents, 'customdata' can be used as follows:\n",
      "\n",
      "Under ('figure', 'data', 'area'):\n",
      "\n",
      "    description: Assigns extra data each datum. This may be useful when listening to hover,\n",
      "        click and selection events. Note that, *scatter* traces also appends\n",
      "        customdata items in the markers DOM elements\n",
      "    role: data\n",
      "\n",
      "\n",
      "\n"
     ]
    }
   ],
   "source": [
    "go.Area().help('customdata')"
   ]
  },
  {
   "cell_type": "markdown",
   "metadata": {},
   "source": [
    "### TODO\n",
    "- Design dashboard\n",
    "    - Vertical bar chart showing distribution of funds\n",
    "    - Change between different time periods\n",
    "    - Wind rose showing distributino of funds for different grades\n",
    "- Predictor bar chart showing expected returns if invest in new funds"
   ]
  },
  {
   "cell_type": "code",
   "execution_count": 16,
   "metadata": {},
   "outputs": [
    {
     "data": {
      "text/html": [
       "<div>\n",
       "<style>\n",
       "    .dataframe thead tr:only-child th {\n",
       "        text-align: right;\n",
       "    }\n",
       "\n",
       "    .dataframe thead th {\n",
       "        text-align: left;\n",
       "    }\n",
       "\n",
       "    .dataframe tbody tr th {\n",
       "        vertical-align: top;\n",
       "    }\n",
       "</style>\n",
       "<table border=\"1\" class=\"dataframe\">\n",
       "  <thead>\n",
       "    <tr style=\"text-align: right;\">\n",
       "      <th></th>\n",
       "      <th>amountRepayed</th>\n",
       "      <th>company</th>\n",
       "      <th>feesAccrued</th>\n",
       "      <th>interestRate</th>\n",
       "      <th>principal</th>\n",
       "      <th>unitPayment</th>\n",
       "      <th>cyclesTotal</th>\n",
       "      <th>profits</th>\n",
       "      <th>badDebtFunds</th>\n",
       "    </tr>\n",
       "  </thead>\n",
       "  <tbody>\n",
       "    <tr>\n",
       "      <th>0</th>\n",
       "      <td>6.0</td>\n",
       "      <td>My Test Company</td>\n",
       "      <td>3.0</td>\n",
       "      <td>16.18</td>\n",
       "      <td>75.0</td>\n",
       "      <td>10.0</td>\n",
       "      <td>36</td>\n",
       "      <td>18.14</td>\n",
       "      <td>5.0</td>\n",
       "    </tr>\n",
       "    <tr>\n",
       "      <th>1</th>\n",
       "      <td>20.0</td>\n",
       "      <td>My Test Company1</td>\n",
       "      <td>3.0</td>\n",
       "      <td>16.18</td>\n",
       "      <td>75.0</td>\n",
       "      <td>10.0</td>\n",
       "      <td>36</td>\n",
       "      <td>18.14</td>\n",
       "      <td>5.0</td>\n",
       "    </tr>\n",
       "    <tr>\n",
       "      <th>2</th>\n",
       "      <td>70.0</td>\n",
       "      <td>My Test Company2</td>\n",
       "      <td>3.0</td>\n",
       "      <td>16.18</td>\n",
       "      <td>75.0</td>\n",
       "      <td>10.0</td>\n",
       "      <td>36</td>\n",
       "      <td>18.14</td>\n",
       "      <td>5.0</td>\n",
       "    </tr>\n",
       "    <tr>\n",
       "      <th>3</th>\n",
       "      <td>80.0</td>\n",
       "      <td>My Test Company3</td>\n",
       "      <td>3.0</td>\n",
       "      <td>16.18</td>\n",
       "      <td>75.0</td>\n",
       "      <td>10.0</td>\n",
       "      <td>36</td>\n",
       "      <td>18.14</td>\n",
       "      <td>5.0</td>\n",
       "    </tr>\n",
       "    <tr>\n",
       "      <th>4</th>\n",
       "      <td>115.0</td>\n",
       "      <td>My Test Company4</td>\n",
       "      <td>3.0</td>\n",
       "      <td>16.18</td>\n",
       "      <td>75.0</td>\n",
       "      <td>10.0</td>\n",
       "      <td>36</td>\n",
       "      <td>18.14</td>\n",
       "      <td>5.0</td>\n",
       "    </tr>\n",
       "  </tbody>\n",
       "</table>\n",
       "</div>"
      ],
      "text/plain": [
       "   amountRepayed           company  feesAccrued  interestRate  principal  \\\n",
       "0  6.0            My Test Company   3.0          16.18         75.0        \n",
       "1  20.0           My Test Company1  3.0          16.18         75.0        \n",
       "2  70.0           My Test Company2  3.0          16.18         75.0        \n",
       "3  80.0           My Test Company3  3.0          16.18         75.0        \n",
       "4  115.0          My Test Company4  3.0          16.18         75.0        \n",
       "\n",
       "   unitPayment  cyclesTotal  profits  badDebtFunds  \n",
       "0  10.0         36           18.14    5.0           \n",
       "1  10.0         36           18.14    5.0           \n",
       "2  10.0         36           18.14    5.0           \n",
       "3  10.0         36           18.14    5.0           \n",
       "4  10.0         36           18.14    5.0           "
      ]
     },
     "execution_count": 16,
     "metadata": {},
     "output_type": "execute_result"
    }
   ],
   "source": [
    "testDF = spark.createDataFrame([(6.0, 'My Test Company', 3.0, 16.18, 75.0, 10., 36, 18.14, 5.),\n",
    "                                (20.0, 'My Test Company1', 3.0, 16.18, 75.0, 10., 36, 18.14, 5.),\n",
    "                                (70.0, 'My Test Company2', 3.0, 16.18, 75.0, 10., 36, 18.14, 5.),\n",
    "                                (80.0, 'My Test Company3', 3.0, 16.18, 75.0, 10., 36, 18.14, 5.),\n",
    "                                (115.0, 'My Test Company4', 3.0, 16.18, 75.0, 10., 36, 18.14, 5.)],\n",
    "                               ['amountRepayed', 'company', 'feesAccrued', 'interestRate', \n",
    "                                'principal', 'unitPayment', 'cyclesTotal', 'profits', 'badDebtFunds'])\n",
    "\n",
    "display_DF(testDF)"
   ]
  },
  {
   "cell_type": "code",
   "execution_count": 17,
   "metadata": {},
   "outputs": [
    {
     "ename": "IndentationError",
     "evalue": "unexpected indent (<ipython-input-17-4638c76ee0d9>, line 2)",
     "output_type": "error",
     "traceback": [
      "\u001b[0;36m  File \u001b[0;32m\"<ipython-input-17-4638c76ee0d9>\"\u001b[0;36m, line \u001b[0;32m2\u001b[0m\n\u001b[0;31m    def bad_debt_funds_outstanding(amountRepayedNetFees, principal, badDebtFunds, nextBadDebtFundsPayment, unitPayment):\u001b[0m\n\u001b[0m    ^\u001b[0m\n\u001b[0;31mIndentationError\u001b[0m\u001b[0;31m:\u001b[0m unexpected indent\n"
     ]
    }
   ],
   "source": [
    "@F.udf(returnType=T.FloatType())\n",
    "    def bad_debt_funds_outstanding(amountRepayedNetFees, principal, badDebtFunds, nextBadDebtFundsPayment, unitPayment):\n",
    "        return min(badDebtFunds - max(amountRepayedNetFees - principal - nextBadDebtFundsPayment - unitPayment, 0.), 0.)\n",
    "        \n",
    "        badDebt = min(amountRepayedNetFees - principal, badDebtFunds)\n",
    "        \n",
    "        if (badDebtFunds - badDebtFundsReceived) < unitPayment:\n",
    "            return 0.0\n",
    "        elif badDebtFundsReceived >= - unitPayment:\n",
    "            return badDebtFunds - (badDebtFundsReceived + unitPayment)\n",
    "        else:\n",
    "            return badDebtFunds"
   ]
  },
  {
   "cell_type": "code",
   "execution_count": null,
   "metadata": {
    "collapsed": true
   },
   "outputs": [],
   "source": [
    "def _min_max(x, minVal, maxVal):\n",
    "    return max(minVal, min(x, maxVal))"
   ]
  },
  {
   "cell_type": "code",
   "execution_count": null,
   "metadata": {},
   "outputs": [],
   "source": [
    "progress_bar(testDF)"
   ]
  }
 ],
 "metadata": {
  "kernelspec": {
   "display_name": "Python 2",
   "language": "python",
   "name": "python2"
  },
  "language_info": {
   "codemirror_mode": {
    "name": "ipython",
    "version": 2
   },
   "file_extension": ".py",
   "mimetype": "text/x-python",
   "name": "python",
   "nbconvert_exporter": "python",
   "pygments_lexer": "ipython2",
   "version": "2.7.13"
  }
 },
 "nbformat": 4,
 "nbformat_minor": 2
}
