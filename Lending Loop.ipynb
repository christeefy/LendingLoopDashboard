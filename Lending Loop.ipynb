{
 "cells": [
  {
   "cell_type": "markdown",
   "metadata": {},
   "source": [
    "# Lending Loop Web App\n",
    "This is a prototype for a Lending Loop web app / dashboard. This notebook focuses on the logics of Lending Loop summary calculations."
   ]
  },
  {
   "cell_type": "markdown",
   "metadata": {},
   "source": [
    "# System Initializations"
   ]
  },
  {
   "cell_type": "markdown",
   "metadata": {},
   "source": [
    "### Package Initializations"
   ]
  },
  {
   "cell_type": "code",
   "execution_count": 1,
   "metadata": {},
   "outputs": [],
   "source": [
    "# DataFrames\n",
    "import pandas as pd\n",
    "import findspark\n",
    "import pyspark\n",
    "import pyspark.sql.functions as F\n",
    "import pyspark.sql.types as T\n",
    "\n",
    "# Databases\n",
    "import pymongo\n",
    "\n",
    "# Misc Packages\n",
    "import os\n",
    "\n",
    "# Visualizations\n",
    "import plotly\n",
    "import plotly.offline as pyo\n",
    "import plotly.graph_objs as go"
   ]
  },
  {
   "cell_type": "markdown",
   "metadata": {},
   "source": [
    "### PySpark Session Initialization"
   ]
  },
  {
   "cell_type": "code",
   "execution_count": 2,
   "metadata": {},
   "outputs": [],
   "source": [
    "packages = 'org.mongodb.spark:mongo-spark-connector_2.11:2.2.0'\n",
    "dedicated_memory = '1g'\n",
    "\n",
    "os.environ['PYSPARK_SUBMIT_ARGS'] = '--packages {} --driver-memory {} pyspark-shell' \\\n",
    "    .format(packages, dedicated_memory)"
   ]
  },
  {
   "cell_type": "code",
   "execution_count": 3,
   "metadata": {},
   "outputs": [],
   "source": [
    "# Find SPARK_HOME\n",
    "findspark.init()\n",
    "\n",
    "# Create SparkSession\n",
    "spark = (pyspark.sql.SparkSession\n",
    "         .builder.appName('LendingLoop')\n",
    "         .getOrCreate())"
   ]
  },
  {
   "cell_type": "markdown",
   "metadata": {},
   "source": [
    "### Use Cases\n",
    "- Dashboard integration\n",
    "    - How much was invested?\n",
    "    - Net rate of return\n",
    "    - Distribution of notes\n",
    "    - Diversification index\n",
    "    - Bar chart showing amount regained from each note\n",
    "- Update Lending Loop transactions (hopefully somewhat automatically)"
   ]
  },
  {
   "cell_type": "markdown",
   "metadata": {},
   "source": [
    "### TODO\n",
    "- Develop one-time database initialization technique (Indexing function might be done separately)\n",
    "- Develop method to update info \n",
    "- Figure out if states are saved or inferred through transactions\n",
    "    - Probably have a transaction collection and a state collection. Update `state` using `transaction`s if `transaction`'s input time was later than `state`'s update time\n",
    "- Figure out collection schemas\n",
    "- Figure out how the overall scheme would look like\n",
    "    - Payment Bar Chart Visualization\n",
    "        - Bar chart showing amount left to recovering investment (and amount of interest earned)\n",
    "        - Overall (x-axis: All note grades) (maybe use a windrose?)\n",
    "        - By group (x-axis: All active notes within group)\n",
    "        - By lists of invidiual notes\n",
    "    - Distribution of Notes Histogram\n",
    "        - x-axis (Note Grade)\n",
    "        - y-axis (% of invested income)\n",
    "        - Hoverinfo (% invested income, amount invested, number of notes)\n",
    "    - Weighted Average Net ROI\n",
    "        - Text Displaying Weighted Average Net ROI "
   ]
  },
  {
   "cell_type": "markdown",
   "metadata": {},
   "source": [
    "### Helper Function Definitions"
   ]
  },
  {
   "cell_type": "code",
   "execution_count": null,
   "metadata": {
    "code_folding": [
     0,
     33,
     46
    ],
    "collapsed": true
   },
   "outputs": [],
   "source": [
    "def import_to_mongo(path, coll, db='lendingLoop', create_index=True):\n",
    "    '''\n",
    "    Unzip and import json.gz file from `path` and loads it into mongo server.\n",
    "    Create database index if `create_index` is True. \n",
    "    '''\n",
    "    # Load existing info from csv file\n",
    "    # Create search index\n",
    "    \n",
    "    # Obtain handle to Mongo database and collection\n",
    "    client = pymongo.MongoClient()\n",
    "    collection = client[db][coll]\n",
    "    \n",
    "    # Return prematurely if database.collection already exists\n",
    "    if (collection.count() != 0):\n",
    "        print '{}.{} already exists on MongoDisk server. Exiting without loading JSON data.'.format(db, coll)\n",
    "        return\n",
    "    \n",
    "    # Insert datapoints into Mongo database\n",
    "    try:\n",
    "        collection.insert_many((datapoint for datapoint in parse(path)))\n",
    "        print 'JSON data successfully imported to Mongo at \\'{}.{}.\\''.format(db, coll)\n",
    "    except Exception as e:\n",
    "        print 'Error loading data.\\n{}'.format(e)\n",
    "        client.close()\n",
    "        return\n",
    "    \n",
    "    if not create_index:\n",
    "        client.close()\n",
    "        return\n",
    "    \n",
    "    # Create database index for improved searching\n",
    "    # collection.create_index([('asin', pymongo.ASCENDING), ('reviewerID', pymongo.DESCENDING)])\n",
    "\n",
    "def load_mongo_to_spark(coll, db='hackon'):\n",
    "    '''\n",
    "    Load the Mongo database to a Spark Session and returns the Spark DataFrame\n",
    "    '''\n",
    "    try:\n",
    "        return (spark\n",
    "                .read\n",
    "                .format('com.mongodb.spark.sql.DefaultSource')\n",
    "                .option('uri', 'mongodb://127.0.0.1/{}.{}'.format(db, coll))\n",
    "                .load())\n",
    "    except Exception as e:\n",
    "        print 'Failed to create Spark dataframe.\\n{}'.format(e)\n",
    "\n",
    "def displayDF(sparkDF, n=10):\n",
    "    '''\n",
    "    Interactively displays the first n rows of a sparkDF as a pandas dataframe\n",
    "    '''\n",
    "    return (sparkDF\n",
    "            .limit(n)\n",
    "            .drop('_id', 'unixReviewTime')\n",
    "            .toPandas())"
   ]
  }
 ],
 "metadata": {
  "kernelspec": {
   "display_name": "Python 2",
   "language": "python",
   "name": "python2"
  },
  "language_info": {
   "codemirror_mode": {
    "name": "ipython",
    "version": 2
   },
   "file_extension": ".py",
   "mimetype": "text/x-python",
   "name": "python",
   "nbconvert_exporter": "python",
   "pygments_lexer": "ipython2",
   "version": "2.7.13"
  }
 },
 "nbformat": 4,
 "nbformat_minor": 2
}
